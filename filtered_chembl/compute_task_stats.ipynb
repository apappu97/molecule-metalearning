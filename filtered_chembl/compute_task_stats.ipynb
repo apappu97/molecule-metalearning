{
 "cells": [
  {
   "cell_type": "code",
   "execution_count": 1,
   "metadata": {},
   "outputs": [],
   "source": [
    "import os\n",
    "import pickle\n",
    "import numpy as np\n",
    "import pandas as pd\n",
    "import matplotlib.pyplot as plt\n",
    "from collections import defaultdict"
   ]
  },
  {
   "cell_type": "code",
   "execution_count": 2,
   "metadata": {},
   "outputs": [
    {
     "data": {
      "text/plain": [
       "['chembl_less_64_instances.csv',\n",
       " 'chembl_more_256_instances.csv',\n",
       " 'chembl_more_64_instances.csv',\n",
       " 'chembl_less_128_instances.csv',\n",
       " 'chembl_more_128_instances.csv',\n",
       " 'chembl_less_256_instances.csv',\n",
       " 'chembl_less_512_instances.csv',\n",
       " 'chembl_assay_names.pickle',\n",
       " 'chembl_assay_type_to_names.pickle',\n",
       " 'chembl_assay_type_legend.pickle',\n",
       " 'chembl_assays_skipped_404.pickle',\n",
       " 'chembl_assay_name_to_type.pickle',\n",
       " 'chembl_128_data',\n",
       " 'chembl_1024_pretraining_test_tasks.csv',\n",
       " 'chembl_more_512_instances.csv',\n",
       " 'chembl_less_1024_instances.csv',\n",
       " 'chembl_more_1024_instances.csv',\n",
       " 'chembl_less_5000_instances.csv',\n",
       " 'chembl_more_5000_instances.csv',\n",
       " 'chembl_less_10000_instances.csv',\n",
       " 'chembl_more_10000_instances.csv',\n",
       " 'generate_pretraining_datasets.ipynb',\n",
       " 'chembl_128_tasks.pickle',\n",
       " 'README.txt',\n",
       " '.ipynb_checkpoints',\n",
       " 'chembl_128_assay_type_to_names.pickle',\n",
       " 'pickle_chembl_less_1024.py',\n",
       " 'chembl_less_1024_all_smiles.pickle',\n",
       " 'chembl_less_1024_all_targets.pickle',\n",
       " 'chembl_less_1024_all_rows.pickle',\n",
       " 'unpickle_chembl_less_1024.py',\n",
       " 'chembl_128_assay_name_to_type.pickle',\n",
       " 'compute_task_stats.ipynb',\n",
       " 'chembl_1024_pretraining_train_val_tasks.csv',\n",
       " 'chembl_less_1024_more_128_645_tasks.csv',\n",
       " 'process_chembl_less_1024_more_128.ipynb']"
      ]
     },
     "execution_count": 2,
     "metadata": {},
     "output_type": "execute_result"
    }
   ],
   "source": [
    "os.listdir('.')"
   ]
  },
  {
   "cell_type": "code",
   "execution_count": 6,
   "metadata": {},
   "outputs": [],
   "source": [
    "with open('/home/apappu/thesis/molecule-metalearning2/molecule-metalearning/filtered_chembl/chembl_1024_meta_train_task_split.pickle', 'rb') as handle:\n",
    "    meta_train_tasks = np.array(pickle.load(handle))\n",
    "with open('/home/apappu/thesis/molecule-metalearning2/molecule-metalearning/filtered_chembl/chembl_1024_meta_val_task_split.pickle', 'rb') as handle:\n",
    "    meta_val_tasks = np.array(pickle.load(handle))\n",
    "with open('/home/apappu/thesis/molecule-metalearning2/molecule-metalearning/filtered_chembl/chembl_1024_meta_test_task_split.pickle', 'rb') as handle:\n",
    "    meta_test_tasks = np.array(pickle.load(handle))\n",
    "with open('/home/apappu/thesis/molecule-metalearning2/molecule-metalearning/filtered_chembl/chembl_1024_tasks.pickle', 'rb') as handle:\n",
    "    chembl_tasks = pickle.load(handle)\n",
    "with open('/home/apappu/thesis/molecule-metalearning2/molecule-metalearning/filtered_chembl/chembl_1024_assay_name_to_type.pickle', 'rb') as handle:\n",
    "    assay_name_to_type = pickle.load(handle)"
   ]
  },
  {
   "cell_type": "code",
   "execution_count": 7,
   "metadata": {},
   "outputs": [],
   "source": [
    "chembl_df = pd.read_csv('chembl_less_1024_more_128_645_tasks.csv')"
   ]
  },
  {
   "cell_type": "code",
   "execution_count": 8,
   "metadata": {},
   "outputs": [
    {
     "data": {
      "text/plain": [
       "645"
      ]
     },
     "execution_count": 8,
     "metadata": {},
     "output_type": "execute_result"
    }
   ],
   "source": [
    "meta_train_task_stats = {}\n",
    "meta_val_task_stats = {}\n",
    "meta_test_task_stats = {}\n",
    "\n",
    "len(chembl_tasks)"
   ]
  },
  {
   "cell_type": "code",
   "execution_count": 9,
   "metadata": {},
   "outputs": [
    {
     "ename": "NameError",
     "evalue": "name 'example_task' is not defined",
     "output_type": "error",
     "traceback": [
      "\u001b[0;31m---------------------------------------------------------------------------\u001b[0m",
      "\u001b[0;31mNameError\u001b[0m                                 Traceback (most recent call last)",
      "\u001b[0;32m<ipython-input-9-3d469eb3fe54>\u001b[0m in \u001b[0;36m<module>\u001b[0;34m\u001b[0m\n\u001b[0;32m----> 1\u001b[0;31m \u001b[0mchembl_df\u001b[0m\u001b[0;34m[\u001b[0m\u001b[0mchembl_df\u001b[0m\u001b[0;34m[\u001b[0m\u001b[0mexample_task\u001b[0m\u001b[0;34m]\u001b[0m\u001b[0;34m.\u001b[0m\u001b[0mnotnull\u001b[0m\u001b[0;34m(\u001b[0m\u001b[0;34m)\u001b[0m\u001b[0;34m]\u001b[0m\u001b[0;34m[\u001b[0m\u001b[0mexample_task\u001b[0m\u001b[0;34m]\u001b[0m\u001b[0;34m.\u001b[0m\u001b[0msum\u001b[0m\u001b[0;34m(\u001b[0m\u001b[0;34m)\u001b[0m\u001b[0;34m\u001b[0m\u001b[0;34m\u001b[0m\u001b[0m\n\u001b[0m",
      "\u001b[0;31mNameError\u001b[0m: name 'example_task' is not defined"
     ]
    }
   ],
   "source": [
    "chembl_df[chembl_df[example_task].notnull()][example_task].sum()"
   ]
  },
  {
   "cell_type": "code",
   "execution_count": 10,
   "metadata": {},
   "outputs": [],
   "source": [
    "def generate_stats(task_idxs_list):\n",
    "    task_stats_dict = {}\n",
    "    prc_aucs = []\n",
    "    for task_idx in task_idxs_list.nonzero()[0]:\n",
    "        task_name = chembl_tasks[task_idx]\n",
    "        num_positive = chembl_df[chembl_df[task_name].notnull()][task_name].sum()\n",
    "        total = chembl_df[chembl_df[task_name].notnull()][task_name].count()\n",
    "        baseline_prc_auc = 1. * num_positive/total\n",
    "        prc_aucs.append(baseline_prc_auc)\n",
    "        task_stats_dict[task_name] = {}\n",
    "        task_stats_dict[task_name]['percent_positive'] = baseline_prc_auc\n",
    "        task_stats_dict[task_name]['num_positive'] = num_positive\n",
    "        task_stats_dict[task_name]['total_datapoints'] = total\n",
    "    return prc_aucs, task_stats_dict"
   ]
  },
  {
   "cell_type": "code",
   "execution_count": 11,
   "metadata": {},
   "outputs": [],
   "source": [
    "train_prc_aucs, train_stats = generate_stats(meta_train_tasks)\n",
    "val_prc_aucs, val_stats = generate_stats(meta_val_tasks)\n",
    "test_prc_aucs, test_stats = generate_stats(meta_test_tasks)"
   ]
  },
  {
   "cell_type": "code",
   "execution_count": 83,
   "metadata": {},
   "outputs": [],
   "source": [
    "with open('meta_train_task_stats.pickle', 'wb') as handle:\n",
    "    pickle.dump(train_stats, handle)\n",
    "with open('meta_val_task_stats.pickle', 'wb') as handle:\n",
    "    pickle.dump(val_stats, handle)\n",
    "with open('meta_test_task_stats.pickle', 'wb') as handle:\n",
    "    pickle.dump(test_stats, handle)"
   ]
  },
  {
   "cell_type": "code",
   "execution_count": 12,
   "metadata": {
    "scrolled": true
   },
   "outputs": [
    {
     "name": "stdout",
     "output_type": "stream",
     "text": [
      "Train stats\n",
      "Average prc-auc:  0.45268396805960653\n",
      "Median prc-auc:  0.4099616858237548\n",
      "Num tasks:  599\n",
      "Val stats\n",
      "Average prc-auc:  0.2735904971244763\n",
      "Median prc-auc:  0.11171878218596795\n",
      "Num tasks:  20\n",
      "Test stats\n",
      "Average prc-auc 0.3793173027771485\n",
      "Median prc-auc 0.28341488195502795\n",
      "Num tasks:  26\n"
     ]
    }
   ],
   "source": [
    "print(\"Train stats\")\n",
    "\n",
    "print('Average prc-auc: ', np.average(train_prc_aucs))\n",
    "print('Median prc-auc: ', np.median(train_prc_aucs))\n",
    "print(\"Num tasks: \", sum(meta_train_tasks))\n",
    "\n",
    "print(\"Val stats\")\n",
    "print('Average prc-auc: ', np.average(val_prc_aucs))\n",
    "print('Median prc-auc: ', np.median(val_prc_aucs))\n",
    "print(\"Num tasks: \", sum(meta_val_tasks))\n",
    "\n",
    "\n",
    "print(\"Test stats\")\n",
    "print('Average prc-auc', np.average(test_prc_aucs))\n",
    "print('Median prc-auc', np.median(test_prc_aucs))\n",
    "print(\"Num tasks: \", sum(meta_test_tasks))\n"
   ]
  },
  {
   "cell_type": "code",
   "execution_count": 15,
   "metadata": {},
   "outputs": [
    {
     "data": {
      "text/plain": [
       "Text(0.5, 0, 'Fraction of Positives in Task')"
      ]
     },
     "execution_count": 15,
     "metadata": {},
     "output_type": "execute_result"
    },
    {
     "data": {
      "image/png": "[encoded data removed]",
      "text/plain": [
       "<Figure size 432x288 with 1 Axes>"
      ]
     },
     "metadata": {
      "needs_background": "light"
     },
     "output_type": "display_data"
    }
   ],
   "source": [
    "plt.hist(train_prc_aucs, density=True, bins=30)\n",
    "plt.title(\"Positive class frequency among meta train tasks\")\n",
    "plt.ylabel('Percentage of Tasks')\n",
    "plt.xlabel('Fraction of Positives in Task')"
   ]
  },
  {
   "cell_type": "code",
   "execution_count": 16,
   "metadata": {},
   "outputs": [
    {
     "data": {
      "text/plain": [
       "Text(0.5, 0, 'Fraction of Positives in Task')"
      ]
     },
     "execution_count": 16,
     "metadata": {},
     "output_type": "execute_result"
    },
    {
     "data": {
      "image/png": "[encoded data removed]",
      "text/plain": [
       "<Figure size 432x288 with 1 Axes>"
      ]
     },
     "metadata": {
      "needs_background": "light"
     },
     "output_type": "display_data"
    }
   ],
   "source": [
    "plt.hist(val_prc_aucs, density=True, bins=30)\n",
    "plt.title(\"Positive class frequency among meta validation tasks\")\n",
    "plt.ylabel('Percentage of Tasks')\n",
    "plt.xlabel('Fraction of Positives in Task')"
   ]
  },
  {
   "cell_type": "code",
   "execution_count": 17,
   "metadata": {},
   "outputs": [
    {
     "data": {
      "text/plain": [
       "Text(0.5, 0, 'Fraction of Positives in Task')"
      ]
     },
     "execution_count": 17,
     "metadata": {},
     "output_type": "execute_result"
    },
    {
     "data": {
      "image/png": "[encoded data removed]",
      "text/plain": [
       "<Figure size 432x288 with 1 Axes>"
      ]
     },
     "metadata": {
      "needs_background": "light"
     },
     "output_type": "display_data"
    }
   ],
   "source": [
    "plt.hist(test_prc_aucs, density=True, bins=30)\n",
    "plt.title(\"Positive class frequency among meta test tasks\")\n",
    "plt.ylabel('Percentage of Tasks')\n",
    "plt.xlabel('Fraction of Positives in Task')"
   ]
  },
  {
   "cell_type": "code",
   "execution_count": 112,
   "metadata": {},
   "outputs": [],
   "source": [
    "def count_task_splits(task_idxs_list):\n",
    "    task_splits = defaultdict(int)\n",
    "    for task_idx in np.nonzero(task_idxs_list)[0]:\n",
    "        task_name = chembl_tasks[task_idx]\n",
    "        assay_type = assay_name_to_type[task_name]\n",
    "        task_splits[assay_type] += 1\n",
    "    for key in task_splits.keys():\n",
    "        print(\"Assay Type {} has {} tasks\".format(key, task_splits[key]))"
   ]
  },
  {
   "cell_type": "code",
   "execution_count": 117,
   "metadata": {},
   "outputs": [
    {
     "name": "stdout",
     "output_type": "stream",
     "text": [
      "Meta train task split:\n",
      "Assay Type F has 471 tasks\n",
      "Assay Type B has 128 tasks\n",
      "Meta val task split:\n",
      "Assay Type F has 10 tasks\n",
      "Assay Type B has 10 tasks\n",
      "Meta test task split:\n",
      "Assay Type F has 10 tasks\n",
      "Assay Type B has 10 tasks\n",
      "Assay Type U has 2 tasks\n",
      "Assay Type T has 2 tasks\n",
      "Assay Type A has 2 tasks\n"
     ]
    }
   ],
   "source": [
    "print(\"Meta train task split:\")\n",
    "count_task_splits(meta_train_tasks)\n",
    "print(\"Meta val task split:\")\n",
    "count_task_splits(meta_val_tasks)\n",
    "print(\"Meta test task split:\")\n",
    "count_task_splits(meta_test_tasks)"
   ]
  },
  {
   "cell_type": "code",
   "execution_count": 84,
   "metadata": {},
   "outputs": [],
   "source": [
    "from sklearn.metrics import auc, precision_recall_curve"
   ]
  },
  {
   "cell_type": "code",
   "execution_count": 99,
   "metadata": {},
   "outputs": [],
   "source": [
    "def sanity_check_prc_auc(preds, targets):\n",
    "    baseline = sum(targets)/len(targets)\n",
    "    precision, recall, _ = precision_recall_curve(targets, preds)\n",
    "    print(precision, recall)\n",
    "    prc_auc = auc(recall, precision)\n",
    "    print('baseline: {}, prc-auc: {}'.format(baseline, prc_auc))"
   ]
  },
  {
   "cell_type": "code",
   "execution_count": 116,
   "metadata": {},
   "outputs": [
    {
     "name": "stdout",
     "output_type": "stream",
     "text": [
      "[0.3 1. ] [1. 0.]\n",
      "baseline: 0.3, prc-auc: 0.65\n"
     ]
    }
   ],
   "source": [
    "my_preds = [1,1, 1, 1, 1, 1, 1, 1, 1, 1]\n",
    "targets = [1, 1, 1, 0, 0, 0, 0, 0, 0, 0]\n",
    "\n",
    "sanity_check(my_preds, targets)"
   ]
  },
  {
   "cell_type": "code",
   "execution_count": 14,
   "metadata": {},
   "outputs": [
    {
     "data": {
      "text/plain": [
       "{'CHEMBL1614170': {'percent_positive': 0.31135531135531136,\n",
       "  'num_positive': 170.0,\n",
       "  'total_datapoints': 546},\n",
       " 'CHEMBL1614202': {'percent_positive': 0.9267515923566879,\n",
       "  'num_positive': 291.0,\n",
       "  'total_datapoints': 314},\n",
       " 'CHEMBL1614359': {'percent_positive': 0.49743589743589745,\n",
       "  'num_positive': 194.0,\n",
       "  'total_datapoints': 390},\n",
       " 'CHEMBL1738019': {'percent_positive': 0.7515151515151515,\n",
       "  'num_positive': 124.0,\n",
       "  'total_datapoints': 165},\n",
       " 'CHEMBL1738021': {'percent_positive': 0.8913043478260869,\n",
       "  'num_positive': 123.0,\n",
       "  'total_datapoints': 138},\n",
       " 'CHEMBL1738131': {'percent_positive': 0.3141025641025641,\n",
       "  'num_positive': 147.0,\n",
       "  'total_datapoints': 468},\n",
       " 'CHEMBL1738202': {'percent_positive': 0.9652777777777778,\n",
       "  'num_positive': 139.0,\n",
       "  'total_datapoints': 144},\n",
       " 'CHEMBL1794355': {'percent_positive': 0.9473684210526315,\n",
       "  'num_positive': 288.0,\n",
       "  'total_datapoints': 304},\n",
       " 'CHEMBL1794358': {'percent_positive': 0.05855855855855856,\n",
       "  'num_positive': 13.0,\n",
       "  'total_datapoints': 222},\n",
       " 'CHEMBL1794567': {'percent_positive': 0.9038961038961039,\n",
       "  'num_positive': 348.0,\n",
       "  'total_datapoints': 385},\n",
       " 'CHEMBL1909085': {'percent_positive': 0.07904191616766468,\n",
       "  'num_positive': 66.0,\n",
       "  'total_datapoints': 835},\n",
       " 'CHEMBL1909092': {'percent_positive': 0.028639618138424822,\n",
       "  'num_positive': 24.0,\n",
       "  'total_datapoints': 838},\n",
       " 'CHEMBL1909192': {'percent_positive': 0.00477326968973747,\n",
       "  'num_positive': 4.0,\n",
       "  'total_datapoints': 838},\n",
       " 'CHEMBL1909209': {'percent_positive': 0.07664670658682635,\n",
       "  'num_positive': 64.0,\n",
       "  'total_datapoints': 835},\n",
       " 'CHEMBL1909211': {'percent_positive': 0.11203814064362336,\n",
       "  'num_positive': 94.0,\n",
       "  'total_datapoints': 839},\n",
       " 'CHEMBL1909212': {'percent_positive': 0.01699029126213592,\n",
       "  'num_positive': 14.0,\n",
       "  'total_datapoints': 824},\n",
       " 'CHEMBL1963705': {'percent_positive': 0.4407514450867052,\n",
       "  'num_positive': 305.0,\n",
       "  'total_datapoints': 692},\n",
       " 'CHEMBL1963741': {'percent_positive': 0.3297062023939064,\n",
       "  'num_positive': 303.0,\n",
       "  'total_datapoints': 919},\n",
       " 'CHEMBL1963934': {'percent_positive': 0.9636363636363636,\n",
       "  'num_positive': 159.0,\n",
       "  'total_datapoints': 165},\n",
       " 'CHEMBL2028077': {'percent_positive': 0.03806228373702422,\n",
       "  'num_positive': 11.0,\n",
       "  'total_datapoints': 289},\n",
       " 'CHEMBL2095143': {'percent_positive': 0.06227106227106227,\n",
       "  'num_positive': 17.0,\n",
       "  'total_datapoints': 273},\n",
       " 'CHEMBL2098499': {'percent_positive': 0.25547445255474455,\n",
       "  'num_positive': 35.0,\n",
       "  'total_datapoints': 137},\n",
       " 'CHEMBL2114797': {'percent_positive': 0.5758928571428571,\n",
       "  'num_positive': 129.0,\n",
       "  'total_datapoints': 224},\n",
       " 'CHEMBL3215116': {'percent_positive': 0.16129032258064516,\n",
       "  'num_positive': 40.0,\n",
       "  'total_datapoints': 248},\n",
       " 'CHEMBL3215176': {'percent_positive': 0.08280254777070063,\n",
       "  'num_positive': 13.0,\n",
       "  'total_datapoints': 157},\n",
       " 'CHEMBL918058': {'percent_positive': 0.06666666666666667,\n",
       "  'num_positive': 15.0,\n",
       "  'total_datapoints': 225}}"
      ]
     },
     "execution_count": 14,
     "metadata": {},
     "output_type": "execute_result"
    }
   ],
   "source": [
    "test_stats"
   ]
  },
  {
   "cell_type": "code",
   "execution_count": null,
   "metadata": {},
   "outputs": [],
   "source": []
  }
 ],
 "metadata": {
  "kernelspec": {
   "display_name": "Python 3",
   "language": "python",
   "name": "python3"
  },
  "language_info": {
   "codemirror_mode": {
    "name": "ipython",
    "version": 3
   },
   "file_extension": ".py",
   "mimetype": "text/x-python",
   "name": "python",
   "nbconvert_exporter": "python",
   "pygments_lexer": "ipython3",
   "version": "3.6.10"
  }
 },
 "nbformat": 4,
 "nbformat_minor": 4
}
