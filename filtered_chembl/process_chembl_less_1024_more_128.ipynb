{
 "cells": [
  {
   "cell_type": "code",
   "execution_count": 44,
   "metadata": {},
   "outputs": [],
   "source": [
    "import pandas as pd \n",
    "import numpy as np\n",
    "import pickle\n",
    "from collections import defaultdict"
   ]
  },
  {
   "cell_type": "code",
   "execution_count": 2,
   "metadata": {},
   "outputs": [],
   "source": [
    "chembl_less_1024_df = pd.read_csv('chembl_less_1024_instances.csv')"
   ]
  },
  {
   "cell_type": "code",
   "execution_count": 24,
   "metadata": {},
   "outputs": [
    {
     "name": "stdout",
     "output_type": "stream",
     "text": [
      "1046\n"
     ]
    }
   ],
   "source": [
    "assays = list(chembl_less_1024_df.columns)[1:]\n",
    "print(len(assays))"
   ]
  },
  {
   "cell_type": "code",
   "execution_count": 27,
   "metadata": {},
   "outputs": [],
   "source": [
    "assays_to_drop = []\n",
    "for assay in assays:\n",
    "    if chembl_less_1024_df[assay].count() < 128:\n",
    "        assays_to_drop.append(assay)"
   ]
  },
  {
   "cell_type": "code",
   "execution_count": 29,
   "metadata": {},
   "outputs": [
    {
     "name": "stdout",
     "output_type": "stream",
     "text": [
      "394\n",
      "652\n"
     ]
    }
   ],
   "source": [
    "print(len(assays_to_drop))\n",
    "print(len(chembl_less_1024_df.columns) - 1 - len(assays_to_drop))"
   ]
  },
  {
   "cell_type": "code",
   "execution_count": 30,
   "metadata": {},
   "outputs": [],
   "source": [
    "pruned_tasks_df = chembl_less_1024_df.drop(assays_to_drop, axis = 1)"
   ]
  },
  {
   "cell_type": "code",
   "execution_count": 31,
   "metadata": {},
   "outputs": [
    {
     "name": "stdout",
     "output_type": "stream",
     "text": [
      "652\n"
     ]
    }
   ],
   "source": [
    "tasks_rem = pruned_tasks_df.columns.tolist()[1:]\n",
    "print(len(tasks_rem))"
   ]
  },
  {
   "cell_type": "code",
   "execution_count": 32,
   "metadata": {},
   "outputs": [],
   "source": [
    "pruned_rows_df = pruned_tasks_df.dropna(subset=tasks_rem, how='all')"
   ]
  },
  {
   "cell_type": "code",
   "execution_count": 33,
   "metadata": {},
   "outputs": [
    {
     "data": {
      "text/plain": [
       "63327"
      ]
     },
     "execution_count": 33,
     "metadata": {},
     "output_type": "execute_result"
    }
   ],
   "source": [
    "len(pruned_rows_df)"
   ]
  },
  {
   "cell_type": "code",
   "execution_count": 14,
   "metadata": {},
   "outputs": [],
   "source": [
    "# Now check to ensure the remaining tasks have assay metadata"
   ]
  },
  {
   "cell_type": "code",
   "execution_count": 15,
   "metadata": {},
   "outputs": [],
   "source": [
    "with open('chembl_assay_name_to_type.pickle', 'rb') as handle:\n",
    "    chembl_assay_name_to_type = pickle.load(handle)\n",
    "with open('chembl_assay_type_to_names.pickle', 'rb') as handle:\n",
    "    chembl_assay_type_to_names = pickle.load(handle)"
   ]
  },
  {
   "cell_type": "code",
   "execution_count": 35,
   "metadata": {},
   "outputs": [
    {
     "name": "stdout",
     "output_type": "stream",
     "text": [
      "7 Assays with no metadata\n"
     ]
    }
   ],
   "source": [
    "assays_to_drop = []\n",
    "for assay in tasks_rem:\n",
    "    if assay not in chembl_assay_name_to_type:\n",
    "        assays_to_drop.append(assay)\n",
    "print('{} Assays with no metadata'.format(len(assays_to_drop)))"
   ]
  },
  {
   "cell_type": "code",
   "execution_count": 36,
   "metadata": {},
   "outputs": [],
   "source": [
    "pruned_tasks_df = pruned_rows_df.drop(assays_to_drop, axis = 1)"
   ]
  },
  {
   "cell_type": "code",
   "execution_count": 37,
   "metadata": {},
   "outputs": [
    {
     "data": {
      "text/plain": [
       "646"
      ]
     },
     "execution_count": 37,
     "metadata": {},
     "output_type": "execute_result"
    }
   ],
   "source": [
    "len(pruned_tasks_df.columns)"
   ]
  },
  {
   "cell_type": "code",
   "execution_count": 38,
   "metadata": {},
   "outputs": [],
   "source": [
    "# Drop any empty rows \n",
    "tasks_rem = pruned_tasks_df.columns.tolist()[1:]\n",
    "pruned_rows_df = pruned_tasks_df.dropna(subset=tasks_rem, how = 'all')"
   ]
  },
  {
   "cell_type": "code",
   "execution_count": 40,
   "metadata": {},
   "outputs": [
    {
     "name": "stdout",
     "output_type": "stream",
     "text": [
      "61865\n",
      "645\n"
     ]
    }
   ],
   "source": [
    "print(len(pruned_rows_df))\n",
    "print(len(tasks_rem))"
   ]
  },
  {
   "cell_type": "code",
   "execution_count": 42,
   "metadata": {},
   "outputs": [],
   "source": [
    "filename = 'chembl_less_1024_more_128_645_tasks.csv'\n",
    "pruned_rows_df.to_csv(filename, index=False)"
   ]
  },
  {
   "cell_type": "code",
   "execution_count": 43,
   "metadata": {},
   "outputs": [],
   "source": [
    "with open('chembl_1024_tasks.pickle', 'wb') as handle:\n",
    "    pickle.dump(tasks_rem, handle)"
   ]
  },
  {
   "cell_type": "code",
   "execution_count": 45,
   "metadata": {},
   "outputs": [],
   "source": [
    "chembl_1024_assay_name_to_type = {}\n",
    "chembl_1024_assay_type_to_names = defaultdict(list)\n",
    "\n",
    "for assay in tasks_rem:\n",
    "    assay_type = chembl_assay_name_to_type[assay]\n",
    "    chembl_1024_assay_name_to_type[assay] = assay_type\n",
    "    chembl_1024_assay_type_to_names[assay_type].append(assay)"
   ]
  },
  {
   "cell_type": "code",
   "execution_count": 49,
   "metadata": {},
   "outputs": [],
   "source": [
    "with open('chembl_1024_assay_name_to_type.pickle', 'wb') as handle:\n",
    "    pickle.dump(chembl_1024_assay_name_to_type, handle)\n",
    "with open('chembl_1024_assay_type_to_names.pickle', 'wb') as handle:\n",
    "    pickle.dump(chembl_1024_assay_type_to_names, handle)"
   ]
  }
 ],
 "metadata": {
  "kernelspec": {
   "display_name": "Python 3",
   "language": "python",
   "name": "python3"
  },
  "language_info": {
   "codemirror_mode": {
    "name": "ipython",
    "version": 3
   },
   "file_extension": ".py",
   "mimetype": "text/x-python",
   "name": "python",
   "nbconvert_exporter": "python",
   "pygments_lexer": "ipython3",
   "version": "3.6.10"
  }
 },
 "nbformat": 4,
 "nbformat_minor": 4
}
