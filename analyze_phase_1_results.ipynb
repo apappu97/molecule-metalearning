{
 "cells": [
  {
   "cell_type": "code",
   "execution_count": 1,
   "metadata": {},
   "outputs": [],
   "source": [
    "import pickle\n",
    "import numpy as np\n",
    "import os \n",
    "from matplotlib import pyplot as plt"
   ]
  },
  {
   "cell_type": "code",
   "execution_count": 2,
   "metadata": {},
   "outputs": [],
   "source": [
    "def grab_results(filenames, dirpath, grab_task_name_func):\n",
    "    total_results = {}\n",
    "    for file in filenames:\n",
    "        with open(os.path.join(dirpath, file), 'rb') as handle:\n",
    "            results = pickle.load(handle)\n",
    "            curr_results = {}\n",
    "            curr_results['avg_score'] = results['avg_score']\n",
    "            curr_results['std'] = results['std']\n",
    "            task_key = grab_task_name_func(file)\n",
    "            total_results[task_key] = curr_results \n",
    "    return total_results"
   ]
  },
  {
   "cell_type": "code",
   "execution_count": 3,
   "metadata": {},
   "outputs": [],
   "source": [
    "def print_results(results_dict):\n",
    "    for key, item in results_dict.items():\n",
    "        score = item['avg_score']\n",
    "        std = item['std']\n",
    "        print(key + ': ', score, '+-', std)"
   ]
  },
  {
   "cell_type": "code",
   "execution_count": 4,
   "metadata": {},
   "outputs": [
    {
     "name": "stdout",
     "output_type": "stream",
     "text": [
      "CHEMBL1614170:  0.36369536955859516 +- 0.10232695661545338\n",
      "CHEMBL1614359:  0.7284686691138161 +- 0.14707062544002014\n",
      "CHEMBL1738019:  0.7307041793526586 +- 0.15293545569326816\n",
      "CHEMBL1614202:  0.8966542532646775 +- 0.08589578380995921\n",
      "CHEMBL1738021:  0.8988714198167245 +- 0.07856698455841168\n",
      "CHEMBL1738131:  0.4759104935057459 +- 0.08529208964225012\n",
      "CHEMBL1738202:  0.953152311668795 +- 0.08619726704220326\n",
      "CHEMBL1794355:  0.9351236173505946 +- 0.06776127168601769\n",
      "CHEMBL1794358:  0.26376745395127743 +- 0.21768922169413094\n",
      "CHEMBL1794567:  0.9203700227868902 +- 0.03649651436529933\n",
      "CHEMBL1909085:  0.24718470800346423 +- 0.15529835703464592\n",
      "CHEMBL1909092:  0.06556306262536912 +- 0.07264783799222518\n",
      "CHEMBL1909192:  0.012623246712193458 +- 0.004205102857621431\n",
      "CHEMBL1909209:  0.26369099274697116 +- 0.13602954149840196\n",
      "CHEMBL1909211:  0.49739506961145963 +- 0.13410668936789952\n",
      "CHEMBL1909212:  0.04923384726603261 +- 0.02123649431913341\n",
      "CHEMBL1963705:  0.5619580226780914 +- 0.10904305643077525\n",
      "CHEMBL1963741:  0.46095219769152174 +- 0.05260606467773006\n",
      "CHEMBL1963934:  0.9571602201127897 +- 0.021921209708330357\n",
      "CHEMBL2028077:  0.040093347423510464 +- 0.011469286369686228\n",
      "CHEMBL2095143:  0.4402919667416235 +- 0.30948011875956444\n",
      "CHEMBL2098499:  0.5161304528804529 +- 0.2736103600126539\n",
      "CHEMBL2114797:  0.8680339907367299 +- 0.10735548051914962\n",
      "CHEMBL3215116:  0.16681846402057254 +- 0.07000977072463346\n",
      "CHEMBL3215176:  0.542041818475642 +- 0.2702532874607443\n",
      "CHEMBL918058:  0.2823784548784548 +- 0.3612079835621225\n"
     ]
    }
   ],
   "source": [
    "ECFP_DIR = 'molecule-metalearning/results/ecfp_single_task_on_test_tasks'\n",
    "ecfp_files = os.listdir(ECFP_DIR)\n",
    "ecfp_results = grab_results(ecfp_files, ECFP_DIR, lambda x: x.split('.')[0])\n",
    "print_results(ecfp_results)"
   ]
  },
  {
   "cell_type": "code",
   "execution_count": 5,
   "metadata": {},
   "outputs": [
    {
     "name": "stdout",
     "output_type": "stream",
     "text": [
      "CHEMBL1614170:  0.35974203613917305 +- 0.11805268463184476\n",
      "CHEMBL1614202:  0.9284940117960392 +- 0.08358607421529694\n",
      "CHEMBL1614359:  0.6210176723888419 +- 0.11724516039540808\n",
      "CHEMBL1738019:  0.681750340481958 +- 0.13558473331760595\n",
      "CHEMBL1738021:  0.957688217866789 +- 0.033210692050440783\n",
      "CHEMBL1738131:  0.4459406058715776 +- 0.12134588826971125\n",
      "CHEMBL1738202:  0.9090570098399768 +- 0.049486806464255906\n",
      "CHEMBL1794355:  0.9544690797066364 +- 0.026639687375578494\n",
      "CHEMBL1794358:  0.4151286939754432 +- 0.33098770523078797\n",
      "CHEMBL1794567:  0.9388938793225275 +- 0.051380710072880004\n",
      "CHEMBL1909085:  0.40819835582109326 +- 0.17566868027241728\n",
      "CHEMBL1909092:  0.08442652440302816 +- 0.09928778290265038\n",
      "CHEMBL1909192:  0.2799182299182299 +- 0.3698185511917481\n",
      "CHEMBL1909209:  0.15454775050007008 +- 0.08796528857036841\n",
      "CHEMBL1909211:  0.7802464966642633 +- 0.072398478737738\n",
      "CHEMBL1909212:  0.15027228863760134 +- 0.15517476078722195\n",
      "CHEMBL1963705:  0.7747012470673935 +- 0.044948538508653296\n",
      "CHEMBL1963741:  0.5538978494333933 +- 0.14099953341897115\n",
      "CHEMBL1963934:  0.86524635118676 +- 0.09123347420288477\n",
      "CHEMBL2028077:  0.05719295887747967 +- 0.02255198098807018\n",
      "CHEMBL2095143:  0.0744473183955898 +- 0.062026568003053485\n",
      "CHEMBL2098499:  0.5002358699501557 +- 0.15917197022422122\n",
      "CHEMBL2114797:  0.8048200059311558 +- 0.07315608117898055\n",
      "CHEMBL3215116:  0.15171551269689357 +- 0.07768293221373615\n",
      "CHEMBL3215176:  0.3616010378510378 +- 0.09709431372607574\n",
      "CHEMBL918058:  0.20479987403900446 +- 0.19629666271641824\n"
     ]
    }
   ],
   "source": [
    "pretraining_parent_dir = '/home/apappu/thesis/molecule-metalearning-finetuning/molecule-metalearning/results/finetuning'\n",
    "pretraining_model = 0\n",
    "pretraining_name = 'pretraining_' + str(pretraining_model)\n",
    "pretraining_dir = os.path.join(pretraining_parent_dir, pretraining_name)\n",
    "pretraining_files = os.listdir(pretraining_dir)\n",
    "\n",
    "pretraining_results = grab_results(pretraining_files, pretraining_dir, lambda x: x.split('_')[2])\n",
    "print_results(pretraining_results)"
   ]
  },
  {
   "cell_type": "code",
   "execution_count": 6,
   "metadata": {},
   "outputs": [
    {
     "name": "stdout",
     "output_type": "stream",
     "text": [
      "ECFP is better on 13 out of 26 tasks which is 50.0 percent\n"
     ]
    }
   ],
   "source": [
    "num_more = 0\n",
    "num_total = 0\n",
    "all_keys = zip(ecfp_results.keys(), pretraining_results.keys())\n",
    "for ecfp_task, pretraining_task in all_keys:\n",
    "    if ecfp_results[ecfp_task]['avg_score'] > pretraining_results[pretraining_task]['avg_score']:\n",
    "        num_more += 1\n",
    "    num_total += 1\n",
    "print('ECFP is better on {} out of {} tasks which is {} percent'.format(num_more, num_total, float(num_more)/num_total * 100))"
   ]
  },
  {
   "cell_type": "code",
   "execution_count": 7,
   "metadata": {},
   "outputs": [],
   "source": [
    "META_DIR= '/home/apappu/thesis/molecule-metalearning2/molecule-metalearning/results/metatesting/'\n",
    "MAML_DIR = META_DIR + 'maml/'\n",
    "FO_MAML_DIR = META_DIR + 'fo_maml/'\n",
    "ANIL_DIR = META_DIR + 'anil/'\n",
    "\n",
    "maml_files = os.listdir(MAML_DIR)\n",
    "fo_maml_files = os.listdir(FO_MAML_DIR)\n",
    "anil_files = os.listdir(ANIL_DIR)\n",
    "\n",
    "maml_results = grab_results(maml_files, MAML_DIR, lambda x: x.split('.')[0].split('_')[1])\n",
    "fo_maml_results = grab_results(fo_maml_files, FO_MAML_DIR, lambda x: x.split('.')[0].split('_')[2])\n",
    "anil_results = grab_results(anil_files, ANIL_DIR, lambda x: x.split('.')[0].split('_')[1])"
   ]
  },
  {
   "cell_type": "code",
   "execution_count": 8,
   "metadata": {
    "scrolled": true
   },
   "outputs": [
    {
     "name": "stdout",
     "output_type": "stream",
     "text": [
      "CHEMBL1614170:  0.45635523543558454 +- 0.08755572394312157\n",
      "CHEMBL1614202:  0.9000342564288868 +- 0.07622669166068405\n",
      "CHEMBL1614359:  0.7020903950125197 +- 0.1667662969597373\n",
      "CHEMBL1738019:  0.7906520227024907 +- 0.08782627196899283\n",
      "CHEMBL1738021:  0.9733303046714635 +- 0.02530837461816793\n",
      "CHEMBL1738131:  0.5564985044170703 +- 0.14563079659605763\n",
      "CHEMBL1738202:  0.9968092621664049 +- 0.006381475667189917\n",
      "CHEMBL1794355:  0.9323467694843994 +- 0.02858139510065343\n",
      "CHEMBL1794358:  0.5772605263888158 +- 0.29530037464965475\n",
      "CHEMBL1794567:  0.9228736246941667 +- 0.06666125460108722\n",
      "CHEMBL1909085:  0.8111319113892643 +- 0.1689480700450716\n",
      "CHEMBL1909092:  0.5795634920634921 +- 0.36583686079666855\n",
      "CHEMBL1909192:  0.23130842762636966 +- 0.3851036647534533\n",
      "CHEMBL1909209:  0.5267653755261561 +- 0.1919321218361657\n",
      "CHEMBL1909211:  0.8024170078321733 +- 0.10768185579388141\n",
      "CHEMBL1909212:  0.18526167494820744 +- 0.12056980846039822\n",
      "CHEMBL1963705:  0.8072101887102792 +- 0.07519973775964303\n",
      "CHEMBL1963741:  0.6818665908740982 +- 0.07541717691477014\n",
      "CHEMBL1963934:  0.8633020346381185 +- 0.11332313937228218\n",
      "CHEMBL2028077:  0.3002264492753623 +- 0.25393521744547165\n",
      "CHEMBL2095143:  0.41785349291231644 +- 0.30860987827402786\n",
      "CHEMBL2098499:  0.5077522609665467 +- 0.18969297642943642\n",
      "CHEMBL2114797:  0.7955516077239182 +- 0.03617050175340424\n",
      "CHEMBL3215116:  0.2095250001589665 +- 0.11727071532287282\n",
      "CHEMBL3215176:  0.48234640971773324 +- 0.3422667366337855\n",
      "CHEMBL918058:  0.4293577694235589 +- 0.39334173598669225\n"
     ]
    }
   ],
   "source": [
    "# maml results\n",
    "print_results(maml_results)"
   ]
  },
  {
   "cell_type": "code",
   "execution_count": 11,
   "metadata": {},
   "outputs": [
    {
     "name": "stdout",
     "output_type": "stream",
     "text": [
      "CHEMBL1614170:  0.3945515599773547 +- 0.15523648386040748\n",
      "CHEMBL1614202:  0.8735412807559854 +- 0.11490281880369321\n",
      "CHEMBL1614359:  0.6810082684244101 +- 0.16832139758183923\n",
      "CHEMBL1738019:  0.9033358540226857 +- 0.12708278777841572\n",
      "CHEMBL1738021:  0.8876068482337212 +- 0.08803928446609628\n",
      "CHEMBL1738131:  0.6311790570892086 +- 0.08690154142155482\n",
      "CHEMBL1738202:  0.9911472532351651 +- 0.013199095445733203\n",
      "CHEMBL1794355:  0.8947583089211031 +- 0.04487608352354149\n",
      "CHEMBL1794358:  0.5172778136260772 +- 0.32145614059032135\n",
      "CHEMBL1794567:  0.9231393681504383 +- 0.06829004909846824\n",
      "CHEMBL1909085:  0.6679344842702687 +- 0.2667921920736457\n",
      "CHEMBL1909092:  0.7970833333333334 +- 0.2839686504606529\n",
      "CHEMBL1909192:  0.04460645291527645 +- 0.01865718667377603\n",
      "CHEMBL1909209:  0.5439473702173714 +- 0.2761232152383027\n",
      "CHEMBL1909211:  0.7711535971647746 +- 0.13312406635745483\n",
      "CHEMBL1909212:  0.07775076325370642 +- 0.03446460395752721\n",
      "CHEMBL1963705:  0.7654247995727462 +- 0.07841072315648538\n",
      "CHEMBL1963741:  0.7175327957940687 +- 0.07953325887771344\n",
      "CHEMBL1963934:  0.8825384634548339 +- 0.05685190522744745\n",
      "CHEMBL2028077:  0.49374999999999997 +- 0.35342446741371303\n",
      "CHEMBL2095143:  0.5393169729880257 +- 0.28207572618396315\n",
      "CHEMBL2098499:  0.5931398680684394 +- 0.18767153187673377\n",
      "CHEMBL2114797:  0.8269541996051271 +- 0.0739395294447967\n",
      "CHEMBL3215116:  0.29168395100751693 +- 0.21829628005657592\n",
      "CHEMBL3215176:  0.5757954545454546 +- 0.27142413191892595\n",
      "CHEMBL918058:  0.62625 +- 0.45799912057169323\n"
     ]
    }
   ],
   "source": [
    "# fo - maml results\n",
    "print_results(fo_maml_results)"
   ]
  },
  {
   "cell_type": "code",
   "execution_count": 12,
   "metadata": {},
   "outputs": [
    {
     "name": "stdout",
     "output_type": "stream",
     "text": [
      "CHEMBL1614170:  0.3099749770248205 +- 0.09348363545107835\n",
      "CHEMBL1614202:  0.9565626448419271 +- 0.04730107581005502\n",
      "CHEMBL1614359:  0.6278253857460223 +- 0.1846943873037055\n",
      "CHEMBL1738019:  0.7925599509577618 +- 0.1580074679862055\n",
      "CHEMBL1738021:  0.8847123432400654 +- 0.11812112178036539\n",
      "CHEMBL1738131:  0.44378827002721993 +- 0.17075159103307425\n",
      "CHEMBL1738202:  0.9420105642221026 +- 0.03245593928724176\n",
      "CHEMBL1794355:  0.9316551626147058 +- 0.03505431925898716\n",
      "CHEMBL1794358:  0.33702376146600216 +- 0.33602302541463513\n",
      "CHEMBL1794567:  0.9241508164860015 +- 0.07753778933328866\n",
      "CHEMBL1909085:  0.2538294475032411 +- 0.11814232857110694\n",
      "CHEMBL1909092:  0.059057818459595776 +- 0.07697400540510169\n",
      "CHEMBL1909192:  0.025682572562808564 +- 0.036862325375635135\n",
      "CHEMBL1909209:  0.27477359466293433 +- 0.16410096872248994\n",
      "CHEMBL1909211:  0.4228911421830083 +- 0.13370624420848842\n",
      "CHEMBL1909212:  0.050474137860645016 +- 0.017330009561001405\n",
      "CHEMBL1963705:  0.8620683098562554 +- 0.04606624100792209\n",
      "CHEMBL1963741:  0.6439786210933452 +- 0.060082244500622994\n",
      "CHEMBL1963934:  0.9283946553458513 +- 0.02657464717059257\n",
      "CHEMBL2028077:  0.5083085317460317 +- 0.3239796281626421\n",
      "CHEMBL2095143:  0.41758564213564214 +- 0.2902785494294716\n",
      "CHEMBL2098499:  0.48295471195471196 +- 0.23050853952752348\n",
      "CHEMBL2114797:  0.5692367561274934 +- 0.04100560866376929\n",
      "CHEMBL3215176:  0.4308882783882784 +- 0.35995282328579226\n",
      "CHEMBL3215116:  0.4843236881985444 +- 0.17930091746941776\n",
      "CHEMBL918058:  0.03606591793662732 +- 0.01639009422962061\n"
     ]
    }
   ],
   "source": [
    "# anil results\n",
    "print_results(anil_results)"
   ]
  },
  {
   "cell_type": "code",
   "execution_count": 13,
   "metadata": {},
   "outputs": [],
   "source": [
    "# score model \n",
    "def score_model_relative_to_others(first, *args):\n",
    "#     import pdb; pdb.set_trace()\n",
    "    other_results = args\n",
    "    num_more = [0] * len(args)\n",
    "    num_total = 0\n",
    "    for task in first.keys():\n",
    "        for i, other_result in enumerate(other_results):\n",
    "            if first[task]['avg_score'] > other_result[task]['avg_score']:\n",
    "                num_more[i] += 1\n",
    "        num_total += 1\n",
    "    # print results\n",
    "    for i, num in enumerate(num_more):\n",
    "        print(\"First is better than other model {} on {} out of {} which is {} percent\".format(i, num, num_total, float(num)/num_total * 100))"
   ]
  },
  {
   "cell_type": "code",
   "execution_count": 14,
   "metadata": {},
   "outputs": [
    {
     "name": "stdout",
     "output_type": "stream",
     "text": [
      "First is better than other model 0 on 13 out of 26 which is 50.0 percent\n"
     ]
    }
   ],
   "source": [
    "# ecfp vs pretraining\n",
    "score_model_relative_to_others(ecfp_results, pretraining_results)"
   ]
  },
  {
   "cell_type": "code",
   "execution_count": 15,
   "metadata": {},
   "outputs": [
    {
     "name": "stdout",
     "output_type": "stream",
     "text": [
      "First is better than other model 0 on 19 out of 26 which is 73.07692307692307 percent\n",
      "First is better than other model 1 on 20 out of 26 which is 76.92307692307693 percent\n"
     ]
    }
   ],
   "source": [
    "# maml vs ecfp and pretraining\n",
    "score_model_relative_to_others(maml_results, ecfp_results, pretraining_results)"
   ]
  },
  {
   "cell_type": "code",
   "execution_count": 16,
   "metadata": {},
   "outputs": [
    {
     "name": "stdout",
     "output_type": "stream",
     "text": [
      "First is better than other model 0 on 20 out of 26 which is 76.92307692307693 percent\n",
      "First is better than other model 1 on 18 out of 26 which is 69.23076923076923 percent\n"
     ]
    }
   ],
   "source": [
    "# fo maml vs ecfp and pretraining\n",
    "score_model_relative_to_others(fo_maml_results, ecfp_results, pretraining_results)"
   ]
  },
  {
   "cell_type": "code",
   "execution_count": 17,
   "metadata": {},
   "outputs": [
    {
     "name": "stdout",
     "output_type": "stream",
     "text": [
      "First is better than other model 0 on 12 out of 26 which is 46.15384615384615 percent\n",
      "First is better than other model 1 on 12 out of 26 which is 46.15384615384615 percent\n"
     ]
    }
   ],
   "source": [
    "# anil vs ecfp and pretraining\n",
    "score_model_relative_to_others(anil_results, ecfp_results, pretraining_results)"
   ]
  },
  {
   "cell_type": "code",
   "execution_count": 18,
   "metadata": {},
   "outputs": [
    {
     "name": "stdout",
     "output_type": "stream",
     "text": [
      "First is better than other model 0 on 12 out of 26 which is 46.15384615384615 percent\n"
     ]
    }
   ],
   "source": [
    "# maml vs fo maml\n",
    "score_model_relative_to_others(maml_results, fo_maml_results)"
   ]
  },
  {
   "cell_type": "code",
   "execution_count": 19,
   "metadata": {},
   "outputs": [
    {
     "name": "stdout",
     "output_type": "stream",
     "text": [
      "First is better than other model 0 on 19 out of 26 which is 73.07692307692307 percent\n",
      "First is better than other model 0 on 19 out of 26 which is 73.07692307692307 percent\n"
     ]
    }
   ],
   "source": [
    "# maml vs anil\n",
    "score_model_relative_to_others(maml_results, anil_results)\n",
    "\n",
    "#fomaml vs anil\n",
    "score_model_relative_to_others(fo_maml_results, anil_results)"
   ]
  },
  {
   "cell_type": "markdown",
   "metadata": {},
   "source": [
    "## Initial commentary\n",
    "#### We see that maml and fo maml cleanly outperform the ECFP and pretraining baseline. We see that ECFP only outperforms pretraining on 50% of tasks, meaning that which baseline outperforms the other is very task dependent (need to print the number of datapoints per task for this to make sense too, as that might be a good pointer for when ECFP baselines are still relevant).\n",
    "\n",
    "#### However, this is not true for ANIL, where ANIL scores better than ECFP and pretraining baselines on fewer than half the tasks.\n",
    "\n",
    "#### We also see that maml and fo maml clearly outperform anil, scoring better than ANIL on 75% of tasks. This merits investigation into task similarity on the tasks that are outperformed on vs the tasks that are under performed on.\n",
    "\n",
    "#### In terms of average lowest rank: MAML and FO-MAML have the lowest average rank, followed by Pretraining, ECFP baseline, and ANIL (see google spreadsheet, https://docs.google.com/spreadsheets/d/1I2IQChFmeMbxtJal742hFH4ewivgwvFm2zLINVZsMPM/edit#gid=0)\n",
    "\n",
    "#### In terms of out of distribution vs in distribution, meta learning methods win on *all* out of distribution tasks. There are 6 out of dist total, FO-MAML wins on 4, MAML wins on 1, ANIL wins on 1. \n",
    "\n",
    "#### Average Rank for out of distribution is: \n",
    "* FOMAML: 1.666666667 \n",
    "* MAML: 2.666666667 \n",
    "* ECFP: 3.166666667  \n",
    "* ANIL: 3.5 \n",
    "* Pretraining: 4.\n",
    "Pretraining seems to exhibit negative transfer relative to ECFP baseline as it ranks lower on 'out of dist' tasks. \n",
    "\n",
    "#### Average Rank on in distribution is: \n",
    "* MAML: 2.2 \n",
    "* FOMAML: 2.5\n",
    "* Pretraining: 3.25 \n",
    "* ANIL: 3.5\n",
    "* ECFP: 3.55\t\n",
    "\n",
    "Interestingly, pretraining shows postivie transfer on in distribution tasks (outperforms ECFP baseline). MAML wins on in distribution tasks, with lower average rank than FO MAML. \n",
    "\n",
    "#### Overall, these results are good! They:\n",
    "* confirm findings in the GSK paper that MAML and FO MAML do outperform pretraining baselines and ANIL. \n",
    "* let us say that MAML and FO MAML *also* outperform ECFP baselines, which was a primary research question of interest\n",
    "* let us say that pretraining baselines struggle to consistently outperform ecfp baselines, so compared to no meta learning and just multitask learning on low data tasks, ecfp baselines are a strong baseline that should still be considered, but on a task dependent basis.\n",
    "* let us make the above conclusions with regards to scaffold splits, which the GSK paper was not able to say\n",
    "\n",
    "#### This leaves many possible questions to investigate:\n",
    "* On the 'ecfp baselines should still be considered relative to pretraining baselines' point, it would be great to dissect these results by num data points too -- see what the correlation is between # datapoints and the difference(pretraining score - ecfp score).\n",
    "* What is differrent between the tasks that MAML outperforms ANIL on and the tasks that ANIL remains competitive? If we run task similarity experiments (CKA and CCA) on each task, I wonder if the similarity graphs will look substantially different between the task set MAML outperforms, and task set that ANIL outperforms. \n",
    "    * This also leads to questions of how to measure task similarity. I haven't seen a lot on this. Kyle told me one thing they like to do is plot the average morgan fingerprint for each task as a t-SNE, and use clusters to identify similar tasks. After letting this mull a bit, I think this is only half the story -- a task isn't solely defined by its input data distribution (which is what the t-SNE gives a sense of), but also the label distribution. For example, take one task, and make a new task by taking every datapoint and flipping its label. In t-sne embedding space, the new task is identical to the old one, but this seems clearly misleading. \n",
    "    * An idea I had recently -- what if you measured task similarity by the euclidean distance of optimized model parameters for each task? I.e., take one architecture, train it to convergence on a task, and view those optimized parameters as a task embedding. My underlying idea here is that similar tasks should have similar loss landscapes, so a set of parameters optimized for one task will perform well on another task if their loss landscapes are similar (this intuition is also inline with positive transfer on similar tasks). A first pass would be to take the optimized model parameters on each task (vanilla chemprop, no pretraining), and then run k-means clustering to see if we could recover the *original* task distribution -- i.e. we know K = 5 for (B, F, A, T, U) tasks, I wonder if running k-means on the optimized embeddings would recover the correct groupings.\n",
    "* We could also dissect why FO MAML outperforms MAML on 14/26 tasks. It's *almost* a toss up, but not quite. This question could go either way in terms of being intersting -- is maybe not as interesting because it could just be a result on this specific task sample (the GSK paper has MAML outperform FOMAML on majority of tasks). This question is maybe interesting in the sense that FOMAML is much faster to train than MAML, so understanding in what circumstances FOMAML does better could be an interesting research avenue. I'm less inclined towards this direction than the ANIL direction since ANIL directly investigates task similarity which I think is more interesting."
   ]
  },
  {
   "cell_type": "code",
   "execution_count": 20,
   "metadata": {},
   "outputs": [],
   "source": [
    "# Let's investigate correlation of datapoints and pretraining - ecfp baseline points (we expect to see positive correlation)\n",
    "from scipy.stats import pearsonr, linregress"
   ]
  },
  {
   "cell_type": "code",
   "execution_count": 21,
   "metadata": {},
   "outputs": [],
   "source": [
    "with open('/home/apappu/thesis/molecule-metalearning2/molecule-metalearning/filtered_chembl/meta_test_task_stats.pickle', 'rb') as handle:\n",
    "    test_task_stats = pickle.load(handle)"
   ]
  },
  {
   "cell_type": "code",
   "execution_count": 35,
   "metadata": {},
   "outputs": [],
   "source": [
    "def calculate_correlation_diff_datapoints(results1, results2, test_task_stats, plot_percent = True, name1 = None, name2 = None):\n",
    "    \"\"\"\n",
    "    Calculates correlation coeff of num datapoints vs (results1score - results2score) across tasks\n",
    "    \"\"\"\n",
    "    tasks = list(test_task_stats.keys())\n",
    "    num_datapoints = []\n",
    "    results1_minus_results2_difference = []\n",
    "    for task in tasks:\n",
    "        num_datapoints.append(test_task_stats[task]['total_datapoints'])\n",
    "        first_score = results1[task]['avg_score']\n",
    "        second_score = results2[task]['avg_score']\n",
    "        if plot_percent:\n",
    "            difference = (first_score - second_score) * 100\n",
    "        else:\n",
    "            difference = first_score - second_score\n",
    "        results1_minus_results2_difference.append(difference)\n",
    "    num_datapoints = np.array(num_datapoints)\n",
    "    results1_minus_results2_difference = np.array(results1_minus_results2_difference)\n",
    "    \n",
    "    # sort them \n",
    "    indices = np.argsort(num_datapoints)\n",
    "    num_datapoints = num_datapoints[indices]\n",
    "    results1_minus_results2_difference = results1_minus_results2_difference[indices]\n",
    "    \n",
    "    # plot and calculate\n",
    "    plt.scatter(num_datapoints, results1_minus_results2_difference)\n",
    "    if name1 and name2:\n",
    "        plt.title('{} vs {}'.format(name1, name2))\n",
    "    plt.xlabel('Number of datapoints')\n",
    "    plt.ylabel('Difference in average score over five folds (%)')\n",
    "    corr, p_value = pearsonr(num_datapoints, results1_minus_results2_difference)\n",
    "    print('Correlation is: {} and accompanying R^2 is {}'.format(corr, corr**2))\n",
    "    print('P value for this correlation fit is: {}'.format(p_value))"
   ]
  },
  {
   "cell_type": "markdown",
   "metadata": {},
   "source": [
    "### The below positive correlation and scatter plot suggest that for lower than 400 ish datapoints, ECFP are stronger baselines than pretraining baselines, but after 400ish datapoints, pretraining architectures outperform ecfp baselines\n",
    "\n",
    "### To ask Brooks:\n",
    "how do we interpret what a 'reasonable' R value is for making conclusions? the correlation certainly != 0\n",
    "when to prefer R**2 over correlation?"
   ]
  },
  {
   "cell_type": "code",
   "execution_count": 36,
   "metadata": {},
   "outputs": [
    {
     "name": "stdout",
     "output_type": "stream",
     "text": [
      "Correlation is: 0.5383852018366724 and accompanying R^2 is 0.28985862555671443\n",
      "P value for this correlation fit is: 0.00454903093834115\n"
     ]
    },
    {
     "data": {
      "image/png": "[encoded data removed]",
      "text/plain": [
       "<Figure size 432x288 with 1 Axes>"
      ]
     },
     "metadata": {
      "needs_background": "light"
     },
     "output_type": "display_data"
    }
   ],
   "source": [
    "# Pretraining vs ECFP\n",
    "calculate_correlation_diff_datapoints(pretraining_results, ecfp_results, test_task_stats, name1='Pretraining', name2='ECFP')\n",
    "\n",
    "# Look at significance of linear regression coefficienct \n",
    "# data uncertainty -- we shouldn't necessarily expect all of variation to be explained by the number of datapoints in the task\n",
    "# look at p-value on coefficient "
   ]
  },
  {
   "cell_type": "code",
   "execution_count": 24,
   "metadata": {},
   "outputs": [
    {
     "name": "stdout",
     "output_type": "stream",
     "text": [
      "Correlation is: 0.6924477147131434 and accompanying R^2 is 0.4794838376114548\n",
      "P value for this correlation fit is: 8.861060920277935e-05\n"
     ]
    },
    {
     "data": {
      "image/png": "[encoded data removed]",
      "text/plain": [
       "<Figure size 432x288 with 1 Axes>"
      ]
     },
     "metadata": {
      "needs_background": "light"
     },
     "output_type": "display_data"
    }
   ],
   "source": [
    "# Let's run the same on MAML vs ECFP\n",
    "calculate_correlation_diff_datapoints(maml_results, ecfp_results, test_task_stats, name1='MAML', name2='ECFP')"
   ]
  },
  {
   "cell_type": "code",
   "execution_count": 25,
   "metadata": {},
   "outputs": [
    {
     "name": "stdout",
     "output_type": "stream",
     "text": [
      "Correlation is: 0.3001950081250282 and accompanying R^2 is 0.09011704290318574\n",
      "P value for this correlation fit is: 0.13621570100431954\n"
     ]
    },
    {
     "data": {
      "image/png": "[encoded data removed]",
      "text/plain": [
       "<Figure size 432x288 with 1 Axes>"
      ]
     },
     "metadata": {
      "needs_background": "light"
     },
     "output_type": "display_data"
    }
   ],
   "source": [
    "# MAML vs Pretraining\n",
    "calculate_correlation_diff_datapoints(maml_results, pretraining_results, test_task_stats, name1='MAML', name2='Pretraining')\n",
    "\n",
    "# Look at out of distribution vs in distribution for test tasks that are worse \n",
    "# "
   ]
  },
  {
   "cell_type": "code",
   "execution_count": 26,
   "metadata": {},
   "outputs": [
    {
     "name": "stdout",
     "output_type": "stream",
     "text": [
      "Correlation is: 0.4423043664186346 and accompanying R^2 is 0.19563315255298977\n",
      "P value for this correlation fit is: 0.023664237408026447\n"
     ]
    },
    {
     "data": {
      "image/png": "[encoded data removed]",
      "text/plain": [
       "<Figure size 432x288 with 1 Axes>"
      ]
     },
     "metadata": {
      "needs_background": "light"
     },
     "output_type": "display_data"
    }
   ],
   "source": [
    "# FO MAML vs ECFP\n",
    "calculate_correlation_diff_datapoints(fo_maml_results, ecfp_results, test_task_stats, name1='FO-MAML', name2='ECFP')"
   ]
  },
  {
   "cell_type": "code",
   "execution_count": 27,
   "metadata": {},
   "outputs": [
    {
     "name": "stdout",
     "output_type": "stream",
     "text": [
      "Correlation is: 0.046995828589698 and accompanying R^2 is 0.002208607904832276\n",
      "P value for this correlation fit is: 0.8196673160367781\n"
     ]
    },
    {
     "data": {
      "image/png": "[encoded data removed]",
      "text/plain": [
       "<Figure size 432x288 with 1 Axes>"
      ]
     },
     "metadata": {
      "needs_background": "light"
     },
     "output_type": "display_data"
    }
   ],
   "source": [
    "# FO MAML vs Pretraining\n",
    "calculate_correlation_diff_datapoints(fo_maml_results, pretraining_results, test_task_stats, name1='FO-MAML', name2='Pretraining')"
   ]
  },
  {
   "cell_type": "code",
   "execution_count": 28,
   "metadata": {},
   "outputs": [
    {
     "name": "stdout",
     "output_type": "stream",
     "text": [
      "Correlation is: 0.1319858973227349 and accompanying R^2 is 0.017420277092087523\n",
      "P value for this correlation fit is: 0.5204050745861233\n"
     ]
    },
    {
     "data": {
      "image/png": "[encoded data removed]",
      "text/plain": [
       "<Figure size 432x288 with 1 Axes>"
      ]
     },
     "metadata": {
      "needs_background": "light"
     },
     "output_type": "display_data"
    }
   ],
   "source": [
    "# ANIL vs ECFP\n",
    "calculate_correlation_diff_datapoints(anil_results, ecfp_results, test_task_stats, name1='ANIL', name2='ECFP')"
   ]
  },
  {
   "cell_type": "markdown",
   "metadata": {},
   "source": [
    "### The next graph suggests that as datasize increases, pretraining outperforms ANIL! However, MAML outperforms Pretraining *more* as datasize increases within our range. This is peculiar and I'm not sure how to interpret this..\n",
    "\n",
    "### Answer is I think don't worry about it as the fits aren't significant by p value"
   ]
  },
  {
   "cell_type": "code",
   "execution_count": 29,
   "metadata": {},
   "outputs": [
    {
     "name": "stdout",
     "output_type": "stream",
     "text": [
      "Correlation is: -0.29839562811154097 and accompanying R^2 is 0.08903995087608106\n",
      "P value for this correlation fit is: 0.1386949444367001\n"
     ]
    },
    {
     "data": {
      "image/png": "[encoded data removed]",
      "text/plain": [
       "<Figure size 432x288 with 1 Axes>"
      ]
     },
     "metadata": {
      "needs_background": "light"
     },
     "output_type": "display_data"
    }
   ],
   "source": [
    "# ANIL vs Pretraining\n",
    "calculate_correlation_diff_datapoints(anil_results, pretraining_results, test_task_stats, name1='ANIL', name2='Pretraining')"
   ]
  },
  {
   "cell_type": "code",
   "execution_count": 30,
   "metadata": {},
   "outputs": [
    {
     "name": "stdout",
     "output_type": "stream",
     "text": [
      "Correlation is: 0.33370445787283914 and accompanying R^2 is 0.11135866520420548\n",
      "P value for this correlation fit is: 0.09570753331260101\n"
     ]
    },
    {
     "data": {
      "image/png": "[encoded data removed]",
      "text/plain": [
       "<Figure size 432x288 with 1 Axes>"
      ]
     },
     "metadata": {
      "needs_background": "light"
     },
     "output_type": "display_data"
    }
   ],
   "source": [
    "# MAML vs FOMAML\n",
    "calculate_correlation_diff_datapoints(maml_results, fo_maml_results, test_task_stats, name1='MAML', name2='FO-MAML')"
   ]
  },
  {
   "cell_type": "code",
   "execution_count": 31,
   "metadata": {},
   "outputs": [
    {
     "name": "stdout",
     "output_type": "stream",
     "text": [
      "Correlation is: 0.49166827839787886 and accompanying R^2 is 0.24173769598273412\n",
      "P value for this correlation fit is: 0.010740754614415614\n"
     ]
    },
    {
     "data": {
      "image/png": "[encoded data removed]",
      "text/plain": [
       "<Figure size 432x288 with 1 Axes>"
      ]
     },
     "metadata": {
      "needs_background": "light"
     },
     "output_type": "display_data"
    }
   ],
   "source": [
    "# MAML vs ANIL\n",
    "calculate_correlation_diff_datapoints(maml_results, anil_results, test_task_stats, name1='MAML', name2='ANIL')"
   ]
  },
  {
   "cell_type": "code",
   "execution_count": 32,
   "metadata": {},
   "outputs": [],
   "source": [
    "# plot pretraining performance vs number of datapoints to examine intuition of efficacy of finetuning being very dependent on num datapoints"
   ]
  },
  {
   "cell_type": "markdown",
   "metadata": {},
   "source": [
    "### Takeaways from correlations\n",
    "\n",
    "#### All models (meta learning and pretraining) outperform ECFP as datasize increases. This is what we expect. ECFP is competitive/outperforms pretraining baseline for lower data tasks (approx < 400 datapoints from eye balling), which means ECFP baselines are very relevant for extremely low data tasks if not using meta learning. With MAML, MAML is still competitive with ECFP at the lowest data tasks. \n",
    "\n",
    "#### Now let's get to MAML vs FOMAML vs ANIL. For some reason, FOMAML slightly outperforms MAML in the raw comparison (num tasks outperformed), by outperforming MAML on 14/26 test tasks. MAML and FOMAML's performance improves with larger data tasks compared to pretraining, but ANIL's performance gets *worse* with increased performance compared to pretraining baseline.\n",
    "\n",
    "#### As expected, MAML and FO-MAML both outperform ANIL on the majority of test tasks (73%). It will be interesting to see *why* there are tasks that MAML and FO MAML outperform ANIL on and vice versa!\n",
    "\n"
   ]
  },
  {
   "cell_type": "code",
   "execution_count": 178,
   "metadata": {},
   "outputs": [
    {
     "name": "stdout",
     "output_type": "stream",
     "text": [
      "Task: CHEMBL1614170 Datapoints 546\n",
      "Task: CHEMBL1614202 Datapoints 314\n",
      "Task: CHEMBL1614359 Datapoints 390\n",
      "Task: CHEMBL1738019 Datapoints 165\n",
      "Task: CHEMBL1738021 Datapoints 138\n",
      "Task: CHEMBL1738131 Datapoints 468\n",
      "Task: CHEMBL1738202 Datapoints 144\n",
      "Task: CHEMBL1794355 Datapoints 304\n",
      "Task: CHEMBL1794358 Datapoints 222\n",
      "Task: CHEMBL1794567 Datapoints 385\n",
      "Task: CHEMBL1909085 Datapoints 835\n",
      "Task: CHEMBL1909092 Datapoints 838\n",
      "Task: CHEMBL1909192 Datapoints 838\n",
      "Task: CHEMBL1909209 Datapoints 835\n",
      "Task: CHEMBL1909211 Datapoints 839\n",
      "Task: CHEMBL1909212 Datapoints 824\n",
      "Task: CHEMBL1963705 Datapoints 692\n",
      "Task: CHEMBL1963741 Datapoints 919\n",
      "Task: CHEMBL1963934 Datapoints 165\n",
      "Task: CHEMBL2028077 Datapoints 289\n",
      "Task: CHEMBL2095143 Datapoints 273\n",
      "Task: CHEMBL2098499 Datapoints 137\n",
      "Task: CHEMBL2114797 Datapoints 224\n",
      "Task: CHEMBL3215116 Datapoints 248\n",
      "Task: CHEMBL3215176 Datapoints 157\n",
      "Task: CHEMBL918058 Datapoints 225\n"
     ]
    }
   ],
   "source": [
    "for task in test_task_stats.keys():\n",
    "    print('Task: {} Datapoints {}'.format(task, test_task_stats[task]['total_datapoints']))"
   ]
  },
  {
   "cell_type": "code",
   "execution_count": 179,
   "metadata": {},
   "outputs": [],
   "source": [
    "with open('/home/apappu/thesis/molecule-metalearning/filtered_chembl/chembl_assay_name_to_type.pickle', 'rb') as handle:\n",
    "    assay_name_to_type = pickle.load(handle)"
   ]
  },
  {
   "cell_type": "code",
   "execution_count": 181,
   "metadata": {},
   "outputs": [
    {
     "name": "stdout",
     "output_type": "stream",
     "text": [
      "Task: CHEMBL1614170 Assay type: F\n",
      "Task: CHEMBL1614202 Assay type: F\n",
      "Task: CHEMBL1614359 Assay type: B\n",
      "Task: CHEMBL1738019 Assay type: U\n",
      "Task: CHEMBL1738021 Assay type: U\n",
      "Task: CHEMBL1738131 Assay type: F\n",
      "Task: CHEMBL1738202 Assay type: F\n",
      "Task: CHEMBL1794355 Assay type: F\n",
      "Task: CHEMBL1794358 Assay type: B\n",
      "Task: CHEMBL1794567 Assay type: F\n",
      "Task: CHEMBL1909085 Assay type: B\n",
      "Task: CHEMBL1909092 Assay type: B\n",
      "Task: CHEMBL1909192 Assay type: B\n",
      "Task: CHEMBL1909209 Assay type: B\n",
      "Task: CHEMBL1909211 Assay type: B\n",
      "Task: CHEMBL1909212 Assay type: B\n",
      "Task: CHEMBL1963705 Assay type: F\n",
      "Task: CHEMBL1963741 Assay type: F\n",
      "Task: CHEMBL1963934 Assay type: F\n",
      "Task: CHEMBL2028077 Assay type: T\n",
      "Task: CHEMBL2095143 Assay type: T\n",
      "Task: CHEMBL2098499 Assay type: A\n",
      "Task: CHEMBL2114797 Assay type: F\n",
      "Task: CHEMBL3215116 Assay type: B\n",
      "Task: CHEMBL3215176 Assay type: B\n",
      "Task: CHEMBL918058 Assay type: A\n"
     ]
    }
   ],
   "source": [
    "in_dist_total = 0\n",
    "out_dist_total = 0\n",
    "maml_win_in_dist = 0\n",
    "maml_win_out_dist = 0\n",
    "\n",
    "for task in test_task_stats.keys():\n",
    "    assay_type = assay_name_to_type[task]\n",
    "    other_scores = [result[task]['avg_score'] for result in [ecfp_results, pretraining_results, fo_maml_results, anil_results]]\n",
    "    if assay_type in ['B', 'F']:\n",
    "        # in distribution\n",
    "        in_dist_total += 1 \n",
    "        if all(maml_results[task]['avg_score'] > score for score in other_scores):\n",
    "            maml_win_in_dist += 1\n",
    "    else:\n",
    "        # out dist\n",
    "        out_dist_total += 1\n",
    "        if all(maml_results[task]['avg_score'] > score for score in other_scores):\n",
    "                    maml_win_out_dist += 1\n",
    "    print(\"Task: {} Assay type: {}\".format(task, assay_name_to_type[task]))\n",
    "    "
   ]
  },
  {
   "cell_type": "code",
   "execution_count": 183,
   "metadata": {},
   "outputs": [
    {
     "name": "stdout",
     "output_type": "stream",
     "text": [
      "6 20\n"
     ]
    }
   ],
   "source": [
    "print(maml_win_in_dist, in_dist_total)"
   ]
  },
  {
   "cell_type": "code",
   "execution_count": 184,
   "metadata": {},
   "outputs": [
    {
     "name": "stdout",
     "output_type": "stream",
     "text": [
      "1 6\n"
     ]
    }
   ],
   "source": [
    "print(maml_win_out_dist, out_dist_total)"
   ]
  },
  {
   "cell_type": "markdown",
   "metadata": {},
   "source": [
    "#### WILCOXON Results"
   ]
  },
  {
   "cell_type": "code",
   "execution_count": 25,
   "metadata": {},
   "outputs": [],
   "source": [
    "from scipy.stats import wilcoxon"
   ]
  },
  {
   "cell_type": "code",
   "execution_count": 28,
   "metadata": {},
   "outputs": [],
   "source": [
    "# all tasks"
   ]
  },
  {
   "cell_type": "code",
   "execution_count": 33,
   "metadata": {},
   "outputs": [],
   "source": [
    "tasks = ecfp_results.keys()\n",
    "ecfp_all_vector = np.array([ecfp_results[task]['avg_score'] for task in tasks])\n",
    "pretraining_all_vector = np.array([pretraining_results[task]['avg_score'] for task in tasks])\n",
    "maml_all_vector = np.array([maml_results[task]['avg_score'] for task in tasks])\n",
    "fomaml_all_vector = np.array([fo_maml_results[task]['avg_score'] for task in tasks])\n",
    "anil_all_vector = np.array([anil_results[task]['avg_score'] for task in tasks])\n",
    "\n",
    "all_vectors = {'ecfp': ecfp_all_vector, 'pretraining': pretraining_all_vector, 'maml': maml_all_vector, 'fomaml': fomaml_all_vector, 'anil': anil_all_vector}"
   ]
  },
  {
   "cell_type": "code",
   "execution_count": 43,
   "metadata": {},
   "outputs": [
    {
     "name": "stdout",
     "output_type": "stream",
     "text": [
      "For ecfp and pretraining, stat is 162.0 p_value is 0.7316942357149899\n",
      "For ecfp and maml, stat is 52.0 p_value is 0.001708898843971795\n",
      "For ecfp and fomaml, stat is 47.0 p_value is 0.0010999079687827968\n",
      "For ecfp and anil, stat is 167.0 p_value is 0.8290790993681643\n",
      "For pretraining and maml, stat is 34.0 p_value is 0.0003258727792625274\n",
      "For pretraining and fomaml, stat is 62.0 p_value is 0.0039431977414849115\n",
      "For pretraining and anil, stat is 175.0 p_value is 0.98986794535872\n",
      "For maml and fomaml, stat is 147.0 p_value is 0.4691625250282967\n",
      "For maml and anil, stat is 77.0 p_value is 0.01235983439208636\n",
      "For fomaml and anil, stat is 61.0 p_value is 0.0036366878938305404\n"
     ]
    }
   ],
   "source": [
    "methods = list(vectors.keys())\n",
    "for i in range(len(methods)):\n",
    "    for j in range(i + 1, len(methods)):\n",
    "        vec1 = all_vectors[methods[i]]\n",
    "        vec2 = all_vectors[methods[j]]\n",
    "        statistic, p_value = wilcoxon(vec1, vec2)\n",
    "        print('For {} and {}, stat is {} p_value is {}'.format(methods[i], methods[j], statistic, p_value))"
   ]
  },
  {
   "cell_type": "code",
   "execution_count": 31,
   "metadata": {},
   "outputs": [],
   "source": [
    "out_of_dist_tasks = ['CHEMBL2098499', 'CHEMBL1738021', 'CHEMBL1738019', 'CHEMBL918058', 'CHEMBL2095143', 'CHEMBL2028077']\n",
    "in_dist_tasks = [task for task in tasks if task not in out_of_dist_tasks]"
   ]
  },
  {
   "cell_type": "code",
   "execution_count": 35,
   "metadata": {},
   "outputs": [],
   "source": [
    "# out of dist"
   ]
  },
  {
   "cell_type": "code",
   "execution_count": 36,
   "metadata": {},
   "outputs": [],
   "source": [
    "ecfp_out_vector = np.array([ecfp_results[task]['avg_score'] for task in out_of_dist_tasks])\n",
    "pretraining_out_vector = np.array([pretraining_results[task]['avg_score'] for task in out_of_dist_tasks])\n",
    "maml_out_vector = np.array([maml_results[task]['avg_score'] for task in out_of_dist_tasks])\n",
    "fomaml_out_vector = np.array([fo_maml_results[task]['avg_score'] for task in out_of_dist_tasks])\n",
    "anil_out_vector = np.array([anil_results[task]['avg_score'] for task in out_of_dist_tasks])\n",
    "\n",
    "out_vectors = {'ecfp': ecfp_out_vector, 'pretraining': pretraining_out_vector, 'maml': maml_out_vector, 'fomaml': fomaml_out_vector, 'anil': anil_out_vector}"
   ]
  },
  {
   "cell_type": "code",
   "execution_count": 37,
   "metadata": {},
   "outputs": [
    {
     "name": "stdout",
     "output_type": "stream",
     "text": [
      "For ecfp vs pretraining, stat is 6.0 p_value is 0.3454475304692257\n",
      "For ecfp vs maml, stat is 3.0 p_value is 0.11585149752593009\n",
      "For ecfp vs fomaml, stat is 1.0 p_value is 0.046399461870904594\n",
      "For ecfp vs anil, stat is 10.0 p_value is 0.916511907863894\n",
      "For pretraining vs maml, stat is 0.0 p_value is 0.027707849358079864\n",
      "For pretraining vs fomaml, stat is 1.0 p_value is 0.046399461870904594\n",
      "For pretraining vs anil, stat is 7.0 p_value is 0.463071015014588\n",
      "For maml vs fomaml, stat is 2.0 p_value is 0.07473549830588248\n",
      "For maml vs anil, stat is 7.0 p_value is 0.463071015014588\n",
      "For fomaml vs anil, stat is 2.0 p_value is 0.07473549830588248\n"
     ]
    },
    {
     "name": "stderr",
     "output_type": "stream",
     "text": [
      "/home/apappu/miniconda3/envs/chemprop/lib/python3.6/site-packages/scipy/stats/morestats.py:2879: UserWarning: Sample size too small for normal approximation.\n",
      "  warnings.warn(\"Sample size too small for normal approximation.\")\n"
     ]
    }
   ],
   "source": [
    "for i in range(len(methods)):\n",
    "    for j in range(i + 1, len(methods)):\n",
    "        vec1 = out_vectors[methods[i]]\n",
    "        vec2 = out_vectors[methods[j]]\n",
    "        statistic, p_value = wilcoxon(vec1, vec2)\n",
    "        print('For {} vs {}, stat is {} p_value is {}'.format(methods[i], methods[j], statistic, p_value))"
   ]
  },
  {
   "cell_type": "code",
   "execution_count": 38,
   "metadata": {},
   "outputs": [],
   "source": [
    "# in dist"
   ]
  },
  {
   "cell_type": "code",
   "execution_count": 39,
   "metadata": {},
   "outputs": [],
   "source": [
    "ecfp_in_vector = np.array([ecfp_results[task]['avg_score'] for task in in_dist_tasks])\n",
    "pretraining_in_vector = np.array([pretraining_results[task]['avg_score'] for task in in_dist_tasks])\n",
    "maml_in_vector = np.array([maml_results[task]['avg_score'] for task in in_dist_tasks])\n",
    "fomaml_in_vector = np.array([fo_maml_results[task]['avg_score'] for task in in_dist_tasks])\n",
    "anil_in_vector = np.array([anil_results[task]['avg_score'] for task in in_dist_tasks])\n",
    "\n",
    "in_vectors = {'ecfp': ecfp_in_vector, 'pretraining': pretraining_in_vector, 'maml': maml_in_vector, 'fomaml': fomaml_in_vector, 'anil': anil_in_vector}"
   ]
  },
  {
   "cell_type": "code",
   "execution_count": 42,
   "metadata": {},
   "outputs": [
    {
     "name": "stdout",
     "output_type": "stream",
     "text": [
      "For ecfp vs pretraining, stat is 80.0 p_value is 0.3506564539028397\n",
      "For ecfp vs maml, stat is 32.0 p_value is 0.0064246026289671515\n",
      "For ecfp vs fomaml, stat is 40.0 p_value is 0.015240061183200121\n",
      "For ecfp vs anil, stat is 104.0 p_value is 0.970219757029658\n",
      "For pretraining vs maml, stat is 25.0 p_value is 0.0028208603832232753\n",
      "For pretraining vs fomaml, stat is 48.0 p_value is 0.03334022025101753\n",
      "For pretraining vs anil, stat is 93.0 p_value is 0.654158944417145\n",
      "For maml vs fomaml, stat is 90.0 p_value is 0.5754862281364963\n",
      "For maml vs anil, stat is 40.0 p_value is 0.015240061183200121\n",
      "For fomaml vs anil, stat is 45.0 p_value is 0.02509350819808047\n"
     ]
    }
   ],
   "source": [
    "for i in range(len(methods)):\n",
    "    for j in range(i + 1, len(methods)):\n",
    "        vec1 = in_vectors[methods[i]]\n",
    "        vec2 = in_vectors[methods[j]]\n",
    "        statistic, p_value = wilcoxon(vec1, vec2)\n",
    "        print('For {} vs {}, stat is {} p_value is {}'.format(methods[i], methods[j], statistic, p_value))"
   ]
  },
  {
   "cell_type": "code",
   "execution_count": null,
   "metadata": {},
   "outputs": [],
   "source": []
  }
 ],
 "metadata": {
  "kernelspec": {
   "display_name": "Python 3.6.10 64-bit ('chemprop': conda)",
   "language": "python",
   "name": "python361064bitchempropconda0a62a50453c840e9a8020804040b19ad"
  },
  "language_info": {
   "codemirror_mode": {
    "name": "ipython",
    "version": 3
   },
   "file_extension": ".py",
   "mimetype": "text/x-python",
   "name": "python",
   "nbconvert_exporter": "python",
   "pygments_lexer": "ipython3",
   "version": "3.6.10"
  }
 },
 "nbformat": 4,
 "nbformat_minor": 4
}
