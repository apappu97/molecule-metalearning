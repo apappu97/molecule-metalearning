{
 "cells": [
  {
   "cell_type": "code",
   "execution_count": 9,
   "metadata": {},
   "outputs": [
    {
     "name": "stdout",
     "output_type": "stream",
     "text": [
      "The autoreload extension is already loaded. To reload it, use:\n",
      "  %reload_ext autoreload\n"
     ]
    }
   ],
   "source": [
    "import numpy as np\n",
    "from matplotlib import pyplot as plt\n",
    "import pickle\n",
    "import cca_core\n",
    "import os\n",
    "import torch\n",
    "from collections import defaultdict\n",
    "from scipy.stats import sem, t\n",
    "%load_ext autoreload\n",
    "%autoreload 2"
   ]
  },
  {
   "cell_type": "code",
   "execution_count": 2,
   "metadata": {},
   "outputs": [],
   "source": [
    "# load task list of meta test tasks\n",
    "# write helper to load activation matrices\n",
    "BASE_PATH = './results/task_similarity/'\n",
    "tasks = os.listdir(BASE_PATH)"
   ]
  },
  {
   "cell_type": "code",
   "execution_count": 3,
   "metadata": {},
   "outputs": [],
   "source": [
    "def get_activations(filename):\n",
    "    with open(filename, 'rb') as handle:\n",
    "        activations_dict = pickle.load(handle)\n",
    "    for key in activations_dict.keys():\n",
    "        activations_dict[key] = activations_dict[key].cpu().numpy()\n",
    "    return activations_dict"
   ]
  },
  {
   "cell_type": "code",
   "execution_count": 4,
   "metadata": {},
   "outputs": [],
   "source": [
    "sims = defaultdict(lambda: defaultdict(list))\n",
    "for task in tasks:\n",
    "    task_path = BASE_PATH + task + '/'\n",
    "    maml_final_files = [x for x in os.listdir(task_path) if 'FINAL' in x]\n",
    "    maml_init_files = [x for x in os.listdir(task_path) if 'initialisation' in x]\n",
    "    paired_pickle_files = zip(maml_init_files, maml_final_files)\n",
    "    for init_file, final_file in paired_pickle_files:\n",
    "        # load up inits and final acts\n",
    "        init_acts = get_activations(task_path + init_file)\n",
    "        final_acts = get_activations(task_path + final_file)\n",
    "        # compute sim for each of gnn, fnn one, ffn two\n",
    "        for key in ['gnn', 'ffn_1', 'ffn_2']:\n",
    "            init_layer_act = init_acts[key]\n",
    "            final_layer_act = final_acts[key]\n",
    "            # compute similarity using cca\n",
    "            results = cca_core.get_cca_similarity(init_layer_act, final_layer_act, epsilon=1e-7, verbose = False)\n",
    "            # for now just store mean cca correlation coeff\n",
    "            cca_summary = np.mean(results['cca_coef1'])\n",
    "            sims[key][task].append(cca_summary)"
   ]
  },
  {
   "cell_type": "code",
   "execution_count": 8,
   "metadata": {},
   "outputs": [],
   "source": [
    "# pickle the similarities \n",
    "with open('gnn_cca_sims.pickle', 'wb') as handle:\n",
    "    pickle.dump(sims['gnn'], handle)\n",
    "with open('ffn_1_cca_sims.pickle', 'wb') as handle:\n",
    "    pickle.dump(sims['ffn_1'], handle)\n",
    "with open('ffn_2_cca_sims.pickle', 'wb') as handle:\n",
    "    pickle.dump(sims['ffn_2'], handle)"
   ]
  },
  {
   "cell_type": "code",
   "execution_count": 15,
   "metadata": {},
   "outputs": [],
   "source": [
    "# compute average similarity and std by layer across tasks and seeds now\n",
    "OUT_OF_DIST = [\n",
    "\"CHEMBL2098499\",\n",
    "\"CHEMBL1738021\",\n",
    "\"CHEMBL1738019\" ,\n",
    "\"CHEMBL918058\",\n",
    "\"CHEMBL2095143\",\n",
    "\"CHEMBL2028077\"\n",
    "]\n",
    "IN_DIST = [x for x in tasks if x not in OUT_OF_DIST]\n",
    "\n",
    "def compute_ci_interval(sample):\n",
    "    # 95% t-confidence interval\n",
    "    confidence_level = 0.95\n",
    "    degrees_freedom = len(sample) - 1\n",
    "    sample_mean = np.mean(sample)\n",
    "    sample_standard_error = sem(sample)\n",
    "    ci = t.interval(confidence_level, degrees_freedom, sample_mean, sample_standard_error)\n",
    "    return ci\n",
    "\n",
    "def compute_cca_similarity_mean_std(task_list, sims_dict):\n",
    "    all_sims = []\n",
    "    for task in task_list:\n",
    "        all_sims += sims_dict[task]\n",
    "    print('Number of datapoints (sim scores): ', len(all_sims))\n",
    "    mean_sim = np.mean(all_sims)\n",
    "    std_sim = np.std(all_sims)\n",
    "    ci_interval = compute_ci_interval(all_sims)\n",
    "    return mean_sim, std_sim, ci_interval"
   ]
  },
  {
   "cell_type": "code",
   "execution_count": 33,
   "metadata": {},
   "outputs": [
    {
     "name": "stdout",
     "output_type": "stream",
     "text": [
      "Number of datapoints (sim scores):  130\n",
      "Number of datapoints (sim scores):  130\n",
      "Number of datapoints (sim scores):  130\n",
      "GNN sim score:  0.6547937459012472 GNN CI interval magnitude:  (0.6251548197663666, 0.6844326720361278)\n",
      "FFN 1 sim score:  0.62526368728267 FFN 1 CI interval magnitude:  (0.593994214800873, 0.656533159764467)\n",
      "FFN 2 sim score:  0.11004545279120079 FFN 2 CI interval magnitude:  (0.09428873646962116, 0.12580216911278042)\n"
     ]
    },
    {
     "data": {
      "text/plain": [
       "Text(0, 0.5, 'CCA similarity')"
      ]
     },
     "execution_count": 33,
     "metadata": {},
     "output_type": "execute_result"
    },
    {
     "data": {
      "image/png": "[encoded data removed]",
      "text/plain": [
       "<Figure size 432x288 with 1 Axes>"
      ]
     },
     "metadata": {
      "needs_background": "light"
     },
     "output_type": "display_data"
    }
   ],
   "source": [
    "# ALL TASKS\n",
    "gnn_mean_sim, gnn_std_sim, gnn_ci_interval = compute_cca_similarity_mean_std(tasks, sims['gnn'])\n",
    "ffn_one_mean_sim, ffn_one_std_sim, fnn_one_ci_interval = compute_cca_similarity_mean_std(tasks, sims['ffn_1'])\n",
    "ffn_two_mean_sim, ffn_two_std_sim, fnn_two_ci_interval = compute_cca_similarity_mean_std(tasks, sims['ffn_2'])\n",
    "print('GNN sim score: ', gnn_mean_sim, 'GNN CI interval magnitude: ', gnn_ci_interval)\n",
    "print('FFN 1 sim score: ', ffn_one_mean_sim, 'FFN 1 CI interval magnitude: ', fnn_one_ci_interval)\n",
    "print('FFN 2 sim score: ',ffn_two_mean_sim, 'FFN 2 CI interval magnitude: ', fnn_two_ci_interval)\n",
    "plt.errorbar( ['GNN', 'FFN 1', 'FFN 2'], [gnn_mean_sim, ffn_one_mean_sim, ffn_two_mean_sim], yerr = [gnn_mean_sim - gnn_ci_interval[0], ffn_one_mean_sim - fnn_one_ci_interval[0], ffn_two_mean_sim - fnn_two_ci_interval[0]])\n",
    "plt.ylim([0, 1])\n",
    "plt.ylabel('CCA similarity')"
   ]
  },
  {
   "cell_type": "code",
   "execution_count": 30,
   "metadata": {},
   "outputs": [
    {
     "name": "stdout",
     "output_type": "stream",
     "text": [
      "Number of datapoints (sim scores):  100\n",
      "Number of datapoints (sim scores):  100\n",
      "Number of datapoints (sim scores):  100\n",
      "GNN sim score:  0.6878485303216703 GNN CI interval magnitude:  (0.6565172124630367, 0.7191798481803038)\n",
      "FFN 1 sim score:  0.6677867715359175 FFN 1 CI interval magnitude:  (0.6347013803725284, 0.7008721626993065)\n",
      "FFN 2 sim score:  0.11978085255115549 FFN 2 CI interval magnitude:  (0.10046400057378196, 0.13909770452852901)\n"
     ]
    },
    {
     "data": {
      "text/plain": [
       "Text(0, 0.5, 'CCA similarity')"
      ]
     },
     "execution_count": 30,
     "metadata": {},
     "output_type": "execute_result"
    },
    {
     "data": {
      "image/png": "[encoded data removed]",
      "text/plain": [
       "<Figure size 432x288 with 1 Axes>"
      ]
     },
     "metadata": {
      "needs_background": "light"
     },
     "output_type": "display_data"
    }
   ],
   "source": [
    "# IN DIST TASKS\n",
    "gnn_mean_sim, gnn_std_sim, gnn_ci_interval = compute_cca_similarity_mean_std(IN_DIST, sims['gnn'])\n",
    "ffn_one_mean_sim, ffn_one_std_sim, fnn_one_ci_interval = compute_cca_similarity_mean_std(IN_DIST, sims['ffn_1'])\n",
    "ffn_two_mean_sim, ffn_two_std_sim, fnn_two_ci_interval = compute_cca_similarity_mean_std(IN_DIST, sims['ffn_2'])\n",
    "print('GNN sim score: ', gnn_mean_sim, 'GNN CI interval magnitude: ', gnn_ci_interval)\n",
    "print('FFN 1 sim score: ', ffn_one_mean_sim, 'FFN 1 CI interval magnitude: ', fnn_one_ci_interval)\n",
    "print('FFN 2 sim score: ',ffn_two_mean_sim, 'FFN 2 CI interval magnitude: ', fnn_two_ci_interval)\n",
    "plt.errorbar( ['GNN', 'FFN 1', 'FFN 2'], [gnn_mean_sim, ffn_one_mean_sim, ffn_two_mean_sim], yerr = [gnn_mean_sim - gnn_ci_interval[0], ffn_one_mean_sim - fnn_one_ci_interval[0], ffn_two_mean_sim - fnn_two_ci_interval[0]])\n",
    "plt.ylim([0, 1])\n",
    "plt.ylabel('CCA similarity')"
   ]
  },
  {
   "cell_type": "code",
   "execution_count": 32,
   "metadata": {},
   "outputs": [
    {
     "name": "stdout",
     "output_type": "stream",
     "text": [
      "Number of datapoints (sim scores):  30\n",
      "Number of datapoints (sim scores):  30\n",
      "Number of datapoints (sim scores):  30\n",
      "GNN sim score:  0.544611131166503 GNN CI interval magnitude:  (0.48176411987015316, 0.6074581424628528)\n",
      "FFN 1 sim score:  0.4835200731051788 FFN 1 CI interval magnitude:  (0.42749867681563763, 0.53954146939472)\n",
      "FFN 2 sim score:  0.07759412025801837 FFN 2 CI interval magnitude:  (0.05746600797472416, 0.09772223254131258)\n"
     ]
    },
    {
     "data": {
      "text/plain": [
       "Text(0, 0.5, 'CCA similarity')"
      ]
     },
     "execution_count": 32,
     "metadata": {},
     "output_type": "execute_result"
    },
    {
     "data": {
      "image/png": "[encoded data removed]",
      "text/plain": [
       "<Figure size 432x288 with 1 Axes>"
      ]
     },
     "metadata": {
      "needs_background": "light"
     },
     "output_type": "display_data"
    }
   ],
   "source": [
    "# OUT DIST TASKS\n",
    "gnn_mean_sim, gnn_std_sim, gnn_ci_interval = compute_cca_similarity_mean_std(OUT_OF_DIST, sims['gnn'])\n",
    "ffn_one_mean_sim, ffn_one_std_sim, fnn_one_ci_interval = compute_cca_similarity_mean_std(OUT_OF_DIST, sims['ffn_1'])\n",
    "ffn_two_mean_sim, ffn_two_std_sim, fnn_two_ci_interval = compute_cca_similarity_mean_std(OUT_OF_DIST, sims['ffn_2'])\n",
    "print('GNN sim score: ', gnn_mean_sim, 'GNN CI interval magnitude: ', gnn_ci_interval)\n",
    "print('FFN 1 sim score: ', ffn_one_mean_sim, 'FFN 1 CI interval magnitude: ', fnn_one_ci_interval)\n",
    "print('FFN 2 sim score: ',ffn_two_mean_sim, 'FFN 2 CI interval magnitude: ', fnn_two_ci_interval)\n",
    "plt.errorbar( ['GNN', 'FFN 1', 'FFN 2'], [gnn_mean_sim, ffn_one_mean_sim, ffn_two_mean_sim], yerr = [gnn_mean_sim - gnn_ci_interval[0], ffn_one_mean_sim - fnn_one_ci_interval[0], ffn_two_mean_sim - fnn_two_ci_interval[0]])\n",
    "plt.ylim([0, 1])\n",
    "plt.ylabel('CCA similarity')"
   ]
  },
  {
   "cell_type": "code",
   "execution_count": null,
   "metadata": {},
   "outputs": [],
   "source": [
    "# NOTES\n",
    "# had to remove an assertion they had for preventing neurons > num datapoints\n",
    "len(problematic_len_tasks) # tasks that have neurons > num datapoints \n",
    "# Took the mean CCA similiarity\n",
    "\n",
    "# Q's \n",
    "# 1. What's a 'low' similarity? Seems a bit arbitrary"
   ]
  }
 ],
 "metadata": {
  "kernelspec": {
   "display_name": "Python 3.6.10 64-bit ('chemprop': conda)",
   "language": "python",
   "name": "python361064bitchempropconda0a62a50453c840e9a8020804040b19ad"
  },
  "language_info": {
   "codemirror_mode": {
    "name": "ipython",
    "version": 3
   },
   "file_extension": ".py",
   "mimetype": "text/x-python",
   "name": "python",
   "nbconvert_exporter": "python",
   "pygments_lexer": "ipython3",
   "version": "3.6.10"
  }
 },
 "nbformat": 4,
 "nbformat_minor": 4
}
