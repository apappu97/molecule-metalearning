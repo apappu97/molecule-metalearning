{
 "cells": [
  {
   "cell_type": "code",
   "execution_count": 85,
   "metadata": {},
   "outputs": [],
   "source": [
    "import pickle\n",
    "import numpy as np\n",
    "import os \n",
    "from matplotlib import pyplot as plt\n",
    "import os, sys\n",
    "from scipy.stats import wilcoxon"
   ]
  },
  {
   "cell_type": "code",
   "execution_count": 2,
   "metadata": {},
   "outputs": [],
   "source": [
    "# Parse log files to get all five performances "
   ]
  },
  {
   "cell_type": "code",
   "execution_count": 98,
   "metadata": {},
   "outputs": [],
   "source": [
    "ecfp_logs_path = '../molecule-metalearning/jobs/logs/ecfp_single_task/'\n",
    "finetuning_logs_path = '../molecule-metalearning-finetuning/molecule-metalearning/jobs/logs/finetuning/pretraining_1/'\n",
    "maml_logs_path = '../molecule-metalearning2/molecule-metalearning/jobs/logs/metatesting/maml/'\n",
    "fo_maml_logs_path = '../molecule-metalearning2/molecule-metalearning/jobs/logs/metatesting/fo_maml/'\n",
    "anil_logs_path = '../molecule-metalearning2/molecule-metalearning/jobs/logs/metatesting/anil/'"
   ]
  },
  {
   "cell_type": "code",
   "execution_count": 49,
   "metadata": {},
   "outputs": [
    {
     "name": "stdout",
     "output_type": "stream",
     "text": [
      "['CHEMBL1738202', 'CHEMBL3215176', 'CHEMBL1963934', 'CHEMBL1794358', 'CHEMBL2114797', 'CHEMBL3215116', 'CHEMBL1794355', 'CHEMBL1614202', 'CHEMBL1794567', 'CHEMBL1614359', 'CHEMBL1738131', 'CHEMBL1614170', 'CHEMBL1963705', 'CHEMBL1909212', 'CHEMBL1909209', 'CHEMBL1909085', 'CHEMBL1909192', 'CHEMBL1909092', 'CHEMBL1909211', 'CHEMBL1963741', 'CHEMBL2098499', 'CHEMBL1738021', 'CHEMBL1738019', 'CHEMBL918058', 'CHEMBL2095143', 'CHEMBL2028077']\n"
     ]
    }
   ],
   "source": [
    "in_dist_tasks = [ \"CHEMBL1738202\"\n",
    " ,\"CHEMBL3215176\"\n",
    ",\"CHEMBL1963934\"\n",
    ",\"CHEMBL1794358\"\n",
    ",\"CHEMBL2114797\"\n",
    ",\"CHEMBL3215116\"\n",
    ",\"CHEMBL1794355\"\n",
    ",\"CHEMBL1614202\"\n",
    ",\"CHEMBL1794567\" \n",
    ",\"CHEMBL1614359\"\n",
    ",\"CHEMBL1738131\"\n",
    ",\"CHEMBL1614170\"\n",
    ",\"CHEMBL1963705\"\n",
    ",\"CHEMBL1909212\"\n",
    ",\"CHEMBL1909209\"\n",
    ",\"CHEMBL1909085\"\n",
    ",\"CHEMBL1909192\"\n",
    ",\"CHEMBL1909092\"\n",
    ",\"CHEMBL1909211\" \n",
    ",\"CHEMBL1963741\"]\n",
    "out_dist_tasks = [\"CHEMBL2098499\"\n",
    ",\"CHEMBL1738021\"\n",
    ",\"CHEMBL1738019\" \n",
    ",\"CHEMBL918058\"\n",
    ",\"CHEMBL2095143\"\n",
    ",\"CHEMBL2028077\"]\n",
    "task_order = in_dist_tasks + out_dist_tasks"
   ]
  },
  {
   "cell_type": "code",
   "execution_count": 70,
   "metadata": {},
   "outputs": [],
   "source": [
    "def get_ecfp_results():\n",
    "    ecfp_results = {'in_dist': [], 'out_dist': []}\n",
    "    for task in task_order:\n",
    "        filename = task + '.log'\n",
    "        with open(os.path.join(ecfp_logs_path, filename)) as file:\n",
    "            for line in file:\n",
    "                if '==> test prc-auc' in line:\n",
    "                    tokens = line.split()\n",
    "                    prc_auc = float(tokens[-1])\n",
    "                    if task in in_dist_tasks:\n",
    "                        ecfp_results['in_dist'].append(prc_auc)\n",
    "                    elif task in out_dist_tasks:\n",
    "                        ecfp_results['out_dist'].append(prc_auc)\n",
    "                    else:\n",
    "                        print('SOL')\n",
    "                else:\n",
    "                    continue\n",
    "    return ecfp_results\n",
    "ecfp_results = get_ecfp_results()"
   ]
  },
  {
   "cell_type": "code",
   "execution_count": 68,
   "metadata": {},
   "outputs": [],
   "source": [
    "def get_pretraining_results():\n",
    "    pretraining_results = {'in_dist': [], 'out_dist': []}\n",
    "    for task in task_order:\n",
    "        filename = 'finetuning_on_' + task + '_test_task.log'\n",
    "        with open(os.path.join(finetuning_logs_path, filename)) as file:\n",
    "            for line in file:\n",
    "                if '==> test prc-auc' in line:\n",
    "                    tokens = line.split()\n",
    "                    prc_auc = float(tokens[-1])\n",
    "                    if task in in_dist_tasks:\n",
    "                        pretraining_results['in_dist'].append(prc_auc)\n",
    "                    elif task in out_dist_tasks:\n",
    "                        pretraining_results['out_dist'].append(prc_auc)\n",
    "                    else:\n",
    "                        print('SOL')\n",
    "                else:\n",
    "                    continue\n",
    "    return pretraining_results\n",
    "pretraining_results = get_pretraining_results()"
   ]
  },
  {
   "cell_type": "code",
   "execution_count": 67,
   "metadata": {},
   "outputs": [],
   "source": [
    "def get_anil_results():\n",
    "    anil_results = {'in_dist': [], 'out_dist': []}\n",
    "    for task in task_order:\n",
    "        filename = task + '.log'\n",
    "        with open(os.path.join(anil_logs_path, filename)) as file:\n",
    "            for line in file:\n",
    "                if '==> test prc-auc' in line:\n",
    "                    tokens = line.split()\n",
    "                    prc_auc = float(tokens[-1])\n",
    "                    if task in in_dist_tasks:\n",
    "                        anil_results['in_dist'].append(prc_auc)\n",
    "                    elif task in out_dist_tasks:\n",
    "                        anil_results['out_dist'].append(prc_auc)\n",
    "                    else:\n",
    "                        print('SOL')\n",
    "                else:\n",
    "                    continue\n",
    "    return anil_results\n",
    "anil_results = get_anil_results()"
   ]
  },
  {
   "cell_type": "code",
   "execution_count": 66,
   "metadata": {},
   "outputs": [],
   "source": [
    "def get_fomaml_results():\n",
    "    fo_maml_results = {'in_dist': [], 'out_dist': []}\n",
    "    for task in task_order:\n",
    "        filename = task + '.log'\n",
    "        with open(os.path.join(fo_maml_logs_path, filename)) as file:\n",
    "            for line in file:\n",
    "                if '==> test prc-auc' in line:\n",
    "                    tokens = line.split()\n",
    "                    prc_auc = float(tokens[-1])\n",
    "                    if task in in_dist_tasks:\n",
    "                        fo_maml_results['in_dist'].append(prc_auc)\n",
    "                    elif task in out_dist_tasks:\n",
    "                        fo_maml_results['out_dist'].append(prc_auc)\n",
    "                    else:\n",
    "                        print('SOL')\n",
    "                else:\n",
    "                    continue\n",
    "    return fo_maml_results\n",
    "fo_maml_results = get_fomaml_results()"
   ]
  },
  {
   "cell_type": "code",
   "execution_count": 118,
   "metadata": {},
   "outputs": [
    {
     "name": "stdout",
     "output_type": "stream",
     "text": [
      "CHEMBL1738202 5\n",
      "CHEMBL3215176 5\n",
      "CHEMBL1963934 5\n",
      "CHEMBL1794358 5\n",
      "CHEMBL2114797 5\n",
      "CHEMBL3215116 5\n",
      "CHEMBL1794355 5\n",
      "CHEMBL1614202 5\n",
      "CHEMBL1794567 5\n",
      "CHEMBL1614359 5\n",
      "CHEMBL1738131 5\n",
      "CHEMBL1614170 5\n",
      "CHEMBL1963705 5\n",
      "CHEMBL1909212 5\n",
      "CHEMBL1909209 5\n",
      "CHEMBL1909085 5\n",
      "CHEMBL1909192 5\n",
      "CHEMBL1909092 5\n",
      "CHEMBL1909211 5\n",
      "CHEMBL1963741 5\n",
      "CHEMBL2098499 5\n",
      "CHEMBL1738021 5\n",
      "CHEMBL1738019 5\n",
      "CHEMBL918058 5\n",
      "CHEMBL2095143 5\n",
      "CHEMBL2028077 5\n"
     ]
    }
   ],
   "source": [
    "def get_maml_results():\n",
    "    maml_results = {'in_dist': [], 'out_dist': []}\n",
    "    for task in task_order:\n",
    "#         if task == 'CHEMBL1909209': import pdb; pdb.set_trace()\n",
    "        filename = task + '.log'\n",
    "        curr_task_results = []\n",
    "        with open(os.path.join(maml_logs_path, filename)) as file:\n",
    "            for line in file:\n",
    "                if '==> test prc-auc' in line:\n",
    "                    tokens = line.split()\n",
    "                    prc_auc = float(tokens[-1])\n",
    "                    curr_task_results.append(prc_auc)\n",
    "                    if task in in_dist_tasks:\n",
    "                        maml_results['in_dist'].append(prc_auc)\n",
    "                    elif task in out_dist_tasks:\n",
    "                        maml_results['out_dist'].append(prc_auc)\n",
    "                    else:\n",
    "                        print('SOL')\n",
    "                else:\n",
    "                    continue\n",
    "            print(task, len(curr_task_results))\n",
    "    return maml_results\n",
    "maml_results = get_maml_results()"
   ]
  },
  {
   "cell_type": "code",
   "execution_count": 124,
   "metadata": {},
   "outputs": [],
   "source": [
    "def analyze_results(in_vector_mapping, dist_pref):\n",
    "    assert dist_pref in ['in', 'out', 'all']\n",
    "    # do all 10 orderings of wilcoxon testing\n",
    "    all_methods = list(in_vector_mapping.keys())\n",
    "    for i in range(len(all_methods)):\n",
    "        for j in range(i + 1, len(all_methods)):\n",
    "            if dist_pref == 'in':\n",
    "                vec1 = in_vector_mapping[all_methods[i]]['in_dist']\n",
    "                vec2 = in_vector_mapping[all_methods[j]]['in_dist']\n",
    "            elif dist_pref == 'out':\n",
    "                vec1 = in_vector_mapping[all_methods[i]]['out_dist']\n",
    "                vec2 = in_vector_mapping[all_methods[j]]['out_dist']\n",
    "            else: # all\n",
    "                vec1_in = in_vector_mapping[all_methods[i]]['in_dist']\n",
    "                vec1_out = in_vector_mapping[all_methods[i]]['out_dist']\n",
    "                vec1 = vec1_in + vec1_out\n",
    "                \n",
    "                vec2_in = in_vector_mapping[all_methods[j]]['in_dist']\n",
    "                vec2_out = in_vector_mapping[all_methods[j]]['out_dist']\n",
    "                vec2 = vec2_in + vec2_out\n",
    "            vec1 = np.array(vec1)\n",
    "            vec2 = np.array(vec2)\n",
    "            statistic, p_value = wilcoxon(vec1, vec2)\n",
    "            print('For {} vs {}, stat is {} p_value is {}'.format(all_methods[i], all_methods[j], statistic, p_value))"
   ]
  },
  {
   "cell_type": "code",
   "execution_count": 119,
   "metadata": {},
   "outputs": [],
   "source": [
    "in_vector_mapping = {'ecfp': ecfp_results, 'pretraining': pretraining_results, 'maml': maml_results, 'fo_maml': fo_maml_results, 'anil': anil_results}"
   ]
  },
  {
   "cell_type": "code",
   "execution_count": 126,
   "metadata": {},
   "outputs": [
    {
     "name": "stdout",
     "output_type": "stream",
     "text": [
      "For ecfp vs pretraining, stat is 2389.5 p_value is 0.6412918338350628\n",
      "For ecfp vs maml, stat is 946.0 p_value is 9.466734354806488e-08\n",
      "For ecfp vs fo_maml, stat is 1069.0 p_value is 4.209094773509108e-06\n",
      "For ecfp vs anil, stat is 2361.0 p_value is 0.690709034572706\n",
      "For pretraining vs maml, stat is 971.0 p_value is 2.54807424699985e-07\n",
      "For pretraining vs fo_maml, stat is 1208.0 p_value is 9.770072043070033e-06\n",
      "For pretraining vs anil, stat is 2392.0 p_value is 0.7720503074396778\n",
      "For maml vs fo_maml, stat is 1924.0 p_value is 0.24469388293049588\n",
      "For maml vs anil, stat is 1052.0 p_value is 1.8804886049672991e-06\n",
      "For fo_maml vs anil, stat is 1213.0 p_value is 4.6102109304617874e-05\n"
     ]
    }
   ],
   "source": [
    "analyze_results(in_vector_mapping, dist_pref = 'in')"
   ]
  },
  {
   "cell_type": "code",
   "execution_count": 127,
   "metadata": {},
   "outputs": [
    {
     "name": "stdout",
     "output_type": "stream",
     "text": [
      "For ecfp vs pretraining, stat is 137.0 p_value is 0.0817418442205618\n",
      "For ecfp vs maml, stat is 70.0 p_value is 0.002456903085302011\n",
      "For ecfp vs fo_maml, stat is 48.0 p_value is 0.0004162345896696194\n",
      "For ecfp vs anil, stat is 199.0 p_value is 0.49079849348995086\n",
      "For pretraining vs maml, stat is 52.0 p_value is 0.0003453871103895158\n",
      "For pretraining vs fo_maml, stat is 42.0 p_value is 0.00014771976188914803\n",
      "For pretraining vs anil, stat is 150.5 p_value is 0.09167097477062774\n",
      "For maml vs fo_maml, stat is 98.0 p_value is 0.028795498649410566\n",
      "For maml vs anil, stat is 119.0 p_value is 0.03318108280504148\n",
      "For fo_maml vs anil, stat is 104.0 p_value is 0.008216736457590426\n"
     ]
    }
   ],
   "source": [
    "analyze_results(in_vector_mapping, dist_pref = 'out')"
   ]
  },
  {
   "cell_type": "code",
   "execution_count": 128,
   "metadata": {},
   "outputs": [
    {
     "name": "stdout",
     "output_type": "stream",
     "text": [
      "For ecfp vs pretraining, stat is 3637.5 p_value is 0.19202400557428512\n",
      "For ecfp vs maml, stat is 1513.0 p_value is 8.346995097198338e-10\n",
      "For ecfp vs fo_maml, stat is 1558.0 p_value is 7.566098731434003e-09\n",
      "For ecfp vs anil, stat is 3962.5 p_value is 0.5887480013550339\n",
      "For pretraining vs maml, stat is 1454.5 p_value is 3.4089510582693566e-10\n",
      "For pretraining vs fo_maml, stat is 1663.0 p_value is 4.569354059762816e-09\n",
      "For pretraining vs anil, stat is 3721.5 p_value is 0.2682248930403184\n",
      "For maml vs fo_maml, stat is 3493.0 p_value is 0.6094528418274174\n",
      "For maml vs anil, stat is 1889.0 p_value is 2.7325062456125703e-07\n",
      "For fo_maml vs anil, stat is 2013.0 p_value is 1.3042279948391975e-06\n"
     ]
    }
   ],
   "source": [
    "analyze_results(in_vector_mapping, dist_pref = 'all')"
   ]
  },
  {
   "cell_type": "code",
   "execution_count": 109,
   "metadata": {},
   "outputs": [
    {
     "data": {
      "text/plain": [
       "26"
      ]
     },
     "execution_count": 109,
     "metadata": {},
     "output_type": "execute_result"
    }
   ],
   "source": [
    "# relevant questions\n",
    "# 1. pretraining vs ecfp -- still not stat sig, it is in out of distribution for alpha level of .1\n",
    "# 2. maml vs fomaml -- only stat sig on out of dist tasks, not stat sig on all tasks or in dist tasks"
   ]
  },
  {
   "cell_type": "code",
   "execution_count": null,
   "metadata": {},
   "outputs": [],
   "source": []
  }
 ],
 "metadata": {
  "kernelspec": {
   "display_name": "Python 3.6.10 64-bit ('chemprop': conda)",
   "language": "python",
   "name": "python361064bitchempropconda0a62a50453c840e9a8020804040b19ad"
  },
  "language_info": {
   "codemirror_mode": {
    "name": "ipython",
    "version": 3
   },
   "file_extension": ".py",
   "mimetype": "text/x-python",
   "name": "python",
   "nbconvert_exporter": "python",
   "pygments_lexer": "ipython3",
   "version": "3.6.10"
  }
 },
 "nbformat": 4,
 "nbformat_minor": 4
}
