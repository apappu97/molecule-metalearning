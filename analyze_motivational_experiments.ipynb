{
 "cells": [
  {
   "cell_type": "code",
   "execution_count": 1,
   "metadata": {},
   "outputs": [],
   "source": [
    "import numpy as np\n",
    "import pickle\n",
    "import os\n",
    "from matplotlib import pyplot as plt\n",
    "from collections import defaultdict"
   ]
  },
  {
   "cell_type": "code",
   "execution_count": 2,
   "metadata": {},
   "outputs": [
    {
     "data": {
      "text/plain": [
       "['less_64_random_split.pickle',\n",
       " 'less_128_random_split.pickle',\n",
       " 'less_256_random_split.pickle',\n",
       " 'less_512_random_split.pickle',\n",
       " 'less_1024_random_split.pickle',\n",
       " 'less_5000_random_split.pickle',\n",
       " 'less_10000_random_split.pickle',\n",
       " 'less_64_scaffold_balanced_split.pickle',\n",
       " 'less_128_scaffold_balanced_split.pickle',\n",
       " 'less_256_scaffold_balanced_split.pickle',\n",
       " 'less_512_scaffold_balanced_split.pickle',\n",
       " 'less_1024_scaffold_balanced_split.pickle',\n",
       " 'less_5000_scaffold_balanced_split.pickle',\n",
       " 'more_5000_random_split.pickle',\n",
       " 'more_10000_random_split.pickle',\n",
       " 'less_10000_scaffold_balanced_split.pickle',\n",
       " 'more_512_random_split.pickle',\n",
       " 'more_1024_random_split.pickle',\n",
       " 'more_256_random_split.pickle',\n",
       " 'more_128_random_split.pickle',\n",
       " 'more_64_random_split.pickle',\n",
       " 'more_128_scaffold_balanced_split.pickle',\n",
       " 'more_64_scaffold_balanced_split.pickle',\n",
       " 'more_5000_scaffold_balanced_split.pickle',\n",
       " 'more_256_scaffold_balanced_split.pickle',\n",
       " 'more_512_scaffold_balanced_split.pickle',\n",
       " 'more_1024_scaffold_balanced_split.pickle',\n",
       " 'more_10000_scaffold_balanced_split.pickle']"
      ]
     },
     "execution_count": 2,
     "metadata": {},
     "output_type": "execute_result"
    }
   ],
   "source": [
    "CHEMPROP_RESULTS_PATH = 'molecule-metalearning/results/motivational/chemprop/'\n",
    "os.listdir(CHEMPROP_RESULTS_PATH)"
   ]
  },
  {
   "cell_type": "code",
   "execution_count": 3,
   "metadata": {},
   "outputs": [],
   "source": [
    "chemprop_results = defaultdict(dict)\n",
    "# hierarchy is op --> size --> split\n",
    "for file in os.listdir(CHEMPROP_RESULTS_PATH):\n",
    "    with open(os.path.join(CHEMPROP_RESULTS_PATH, file), 'rb') as handle:\n",
    "        results = pickle.load(handle)\n",
    "        parts = file.split('_')\n",
    "        op = parts[0]\n",
    "        size = int(parts[1])\n",
    "        split = parts[2]\n",
    "        if split not in chemprop_results[op]:\n",
    "            chemprop_results[op][split] = {}\n",
    "        if size not in chemprop_results[op][split]:\n",
    "            chemprop_results[op][split][size] = {}\n",
    "        \n",
    "        chemprop_results[op][split][size] = results['avg_score']"
   ]
  },
  {
   "cell_type": "code",
   "execution_count": 6,
   "metadata": {},
   "outputs": [],
   "source": [
    "# Now do the morgan log parsing\n",
    "MORGAN_LOGS_PATH = 'molecule-metalearning/jobs/logs/motivational/morgan/'\n",
    "morgan_results = defaultdict(dict)\n",
    "for file in os.listdir(MORGAN_LOGS_PATH):\n",
    "    parts = file.split('_')\n",
    "    op = parts[1]\n",
    "    size = int(parts[2])\n",
    "    split = parts[3].split('.')[0]\n",
    "    if split not in morgan_results[op]:\n",
    "        morgan_results[op][split] = {}\n",
    "    if size not in morgan_results[op][split]:\n",
    "        morgan_results[op][split][size] = {}\n",
    "\n",
    "    with open(os.path.join(MORGAN_LOGS_PATH, file), 'r') as handle:\n",
    "        myline = \"\"\n",
    "        for line in handle:\n",
    "            if 'Overall test auc' in line:\n",
    "                myline = line\n",
    "        result = float(myline.split()[4])\n",
    "        morgan_results[op][split][size] = result"
   ]
  },
  {
   "cell_type": "code",
   "execution_count": 11,
   "metadata": {},
   "outputs": [],
   "source": [
    "# below func from https://stackoverflow.com/questions/14270391/python-matplotlib-multiple-bars\n",
    "def bar_plot(ax, data, colors=None, total_width=0.8, single_width=1, legend=True, xlabels=None):\n",
    "    \"\"\"Draws a bar plot with multiple bars per data point.\n",
    "\n",
    "    Parameters\n",
    "    ----------\n",
    "    ax : matplotlib.pyplot.axis\n",
    "        The axis we want to draw our plot on.\n",
    "\n",
    "    data: dictionary\n",
    "        A dictionary containing the data we want to plot. Keys are the names of the\n",
    "        data, the items is a list of the values.\n",
    "\n",
    "        Example:\n",
    "        data = {\n",
    "            \"x\":[1,2,3],\n",
    "            \"y\":[1,2,3],\n",
    "            \"z\":[1,2,3],\n",
    "        }\n",
    "\n",
    "    colors : array-like, optional\n",
    "        A list of colors which are used for the bars. If None, the colors\n",
    "        will be the standard matplotlib color cyle. (default: None)\n",
    "\n",
    "    total_width : float, optional, default: 0.8\n",
    "        The width of a bar group. 0.8 means that 80% of the x-axis is covered\n",
    "        by bars and 20% will be spaces between the bars.\n",
    "\n",
    "    single_width: float, optional, default: 1\n",
    "        The relative width of a single bar within a group. 1 means the bars\n",
    "        will touch eachother within a group, values less than 1 will make\n",
    "        these bars thinner.\n",
    "\n",
    "    legend: bool, optional, default: True\n",
    "        If this is set to true, a legend will be added to the axis.\n",
    "    \"\"\"\n",
    "\n",
    "    # Check if colors where provided, otherwhise use the default color cycle\n",
    "    if colors is None:\n",
    "        colors = plt.rcParams['axes.prop_cycle'].by_key()['color']\n",
    "\n",
    "    # Number of bars per group\n",
    "    n_bars = len(data)\n",
    "\n",
    "    # The width of a single bar\n",
    "    bar_width = total_width / n_bars\n",
    "\n",
    "    # List containing handles for the drawn bars, used for the legend\n",
    "    bars = []\n",
    "\n",
    "    # Iterate over all data\n",
    "    for i, (name, values) in enumerate(data.items()):\n",
    "        # The offset in x direction of that bar\n",
    "        x_offset = (i - n_bars / 2) * bar_width + bar_width / 2\n",
    "\n",
    "        # Draw a bar for every value of that type\n",
    "        for x, y in enumerate(values):\n",
    "            bar = ax.bar(x + x_offset, y, width=bar_width * single_width, color=colors[i % len(colors)])\n",
    "\n",
    "        # Add a handle to the last drawn bar, which we'll need for the legend\n",
    "        bars.append(bar[0])\n",
    "    plt.xticks(range(len(xlabels)), xlabels)\n",
    "    # Draw legend if we need\n",
    "    if legend:\n",
    "        ax.legend(bars, data.keys())\n",
    "\n",
    "def get_sorted_keys(op, split):\n",
    "    chemprop_keys = [int(num) for num in list(chemprop_results[op][split].keys())]\n",
    "    morgan_keys = [int(num) for num in list(morgan_results[op][split].keys())]\n",
    "    chemprop_keys.sort()\n",
    "    morgan_keys.sort()\n",
    "    \n",
    "    return chemprop_keys, morgan_keys\n",
    "\n",
    "def make_bar_plot(split, op):\n",
    "    \"\"\"\n",
    "    split is either 'random' or 'scaffold'\n",
    "    op is either 'more' or 'less'\n",
    "    \"\"\"\n",
    "    chemprop_keys, morgan_keys = get_sorted_keys(op, split) \n",
    "    print('chemprop keys: {}'.format(list(chemprop_results[op][split].keys())))\n",
    "    print('morgan keys {}'.format(list(morgan_results[op][split].keys())))\n",
    "    chemprop_list = [chemprop_results[op][split][size] for size in chemprop_keys]\n",
    "    morgan_list = [morgan_results[op][split][size] for size in morgan_keys]\n",
    "    data = {'Chemprop': chemprop_list, 'ECFP': morgan_list}\n",
    "    fig, ax = plt.subplots()\n",
    "    \n",
    "    # plot bar chart \n",
    "    bar_plot(ax, data, legend=True, xlabels = chemprop_keys)\n",
    "    ax.set_title('Chemprop vs. ECFP')\n",
    "    ax.set_ylabel('Test AUROC')\n",
    "    ax.set_xlabel('Dataset size')\n",
    "\n",
    "def make_random_scaffold_bar_plot(op, model):\n",
    "    \"\"\"\n",
    "    op is either 'more' or 'less'\n",
    "    model is either 'chemprop' or 'morgan'\n",
    "    \"\"\"\n",
    "    if model == 'chemprop':\n",
    "        random_keys, _ = get_sorted_keys(op, 'random') \n",
    "        scaffold_keys, _ = get_sorted_keys(op, 'scaffold')\n",
    "        results = chemprop_results\n",
    "\n",
    "    elif model == 'morgan':\n",
    "        _, random_keys = get_sorted_keys(op, 'random') \n",
    "        _, scaffold_keys = get_sorted_keys(op, 'scaffold')\n",
    "        results = morgan_results\n",
    "    \n",
    "    random_values = [results[op]['random'][key] for key in random_keys]\n",
    "    scaffold_values = [results[op]['scaffold'][key] for key in scaffold_keys]\n",
    "    \n",
    "    data = {'random': random_values, 'scaffold': scaffold_values}\n",
    "    fig, ax = plt.subplots()\n",
    "    bar_plot(ax, data, legend=True, xlabels = random_keys)\n",
    "    ax.set_title('Random vs Scaffold')\n",
    "    ax.set_xlabel('Dataset size')\n",
    "    ax.set_ylabel('Test AUROC')\n",
    "    \n",
    "def make_line_plot(split, op):\n",
    "    \"\"\"\n",
    "    split is either 'random' or 'scaffold'\n",
    "    op is either 'more' or 'less'\n",
    "    \"\"\"\n",
    "    chemprop_keys, morgan_keys = get_sorted_keys(op, split)\n",
    "    \n",
    "    chemprop_list = [chemprop_results[op][split][size] for size in chemprop_keys]\n",
    "    morgan_list = [morgan_results[op][split][size] for size in morgan_keys]\n",
    "    \n",
    "    paired_scores = zip(chemprop_list, morgan_list)\n",
    "    differences = [i - j for (i, j) in paired_scores]\n",
    "    fig, ax = plt.subplots()\n",
    "    \n",
    "    # plot line chart\n",
    "    ax.plot(differences)\n",
    "    ax.set_title('Relative difference between Chemprop and ECFP baseline under {} split'.format(split))\n",
    "    plt.xticks(range(len(chemprop_keys)), chemprop_keys)\n",
    "    ax.set_ylabel('% Difference in Test AUROC')\n",
    "    ax.set_xlabel('Dataset size')"
   ]
  },
  {
   "cell_type": "code",
   "execution_count": 12,
   "metadata": {},
   "outputs": [
    {
     "name": "stdout",
     "output_type": "stream",
     "text": [
      "chemprop keys: [64, 128, 256, 512, 1024, 5000, 10000]\n",
      "morgan keys [64, 128, 256, 512, 1024, 5000, 10000]\n"
     ]
    },
    {
     "data": {
      "image/png": "[encoded data removed]",
      "text/plain": [
       "<Figure size 432x288 with 1 Axes>"
      ]
     },
     "metadata": {
      "needs_background": "light"
     },
     "output_type": "display_data"
    }
   ],
   "source": [
    "# this plot nicely shows the trend that as we allow more datapoints, chemprop eventually gets competitive (on a scaffold split)\n",
    "make_bar_plot('scaffold', 'less')"
   ]
  },
  {
   "cell_type": "code",
   "execution_count": 9,
   "metadata": {},
   "outputs": [
    {
     "data": {
      "image/png": "[encoded data removed]",
      "text/plain": [
       "<Figure size 432x288 with 1 Axes>"
      ]
     },
     "metadata": {
      "needs_background": "light"
     },
     "output_type": "display_data"
    }
   ],
   "source": [
    "make_line_plot('scaffold', 'less')"
   ]
  },
  {
   "cell_type": "code",
   "execution_count": 10,
   "metadata": {},
   "outputs": [
    {
     "data": {
      "image/png": "[encoded data removed]",
      "text/plain": [
       "<Figure size 432x288 with 1 Axes>"
      ]
     },
     "metadata": {
      "needs_background": "light"
     },
     "output_type": "display_data"
    }
   ],
   "source": [
    "# We see that random outperforms scaffold on the majority of dataset thresholds (512 is questionable)\n",
    "make_random_scaffold_bar_plot('less', 'chemprop')"
   ]
  }
 ],
 "metadata": {
  "kernelspec": {
   "display_name": "Python 3.6.10 64-bit ('chemprop': conda)",
   "language": "python",
   "name": "python361064bitchempropconda0a62a50453c840e9a8020804040b19ad"
  },
  "language_info": {
   "codemirror_mode": {
    "name": "ipython",
    "version": 3
   },
   "file_extension": ".py",
   "mimetype": "text/x-python",
   "name": "python",
   "nbconvert_exporter": "python",
   "pygments_lexer": "ipython3",
   "version": "3.6.10"
  }
 },
 "nbformat": 4,
 "nbformat_minor": 4
}
